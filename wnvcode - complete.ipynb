{
 "cells": [
  {
   "cell_type": "code",
   "execution_count": 4,
   "metadata": {
    "collapsed": true
   },
   "outputs": [],
   "source": [
    "import pandas as pd\n",
    "import numpy as np\n",
    "from sklearn.preprocessing import LabelEncoder, OneHotEncoder\n",
    "from sklearn.ensemble import RandomForestClassifier\n",
    "from sklearn.cross_validation import cross_val_score, cross_val_predict\n",
    "from sklearn.metrics import confusion_matrix, classification_report\n",
    "from sklearn import svm\n",
    "from sklearn.grid_search import GridSearchCV\n",
    "from sklearn.metrics import roc_curve, auc\n",
    "from sklearn.cross_validation import train_test_split\n",
    "import matplotlib.pyplot as plt\n",
    "%matplotlib inline"
   ]
  },
  {
   "cell_type": "code",
   "execution_count": 186,
   "metadata": {
    "collapsed": false
   },
   "outputs": [],
   "source": [
    "data = pd.read_csv('train.csv')"
   ]
  },
  {
   "cell_type": "code",
   "execution_count": 187,
   "metadata": {
    "collapsed": false
   },
   "outputs": [
    {
     "data": {
      "text/html": [
       "<div>\n",
       "<table border=\"1\" class=\"dataframe\">\n",
       "  <thead>\n",
       "    <tr style=\"text-align: right;\">\n",
       "      <th></th>\n",
       "      <th>Date</th>\n",
       "      <th>Address</th>\n",
       "      <th>Species</th>\n",
       "      <th>Block</th>\n",
       "      <th>Street</th>\n",
       "      <th>Trap</th>\n",
       "      <th>AddressNumberAndStreet</th>\n",
       "      <th>Latitude</th>\n",
       "      <th>Longitude</th>\n",
       "      <th>AddressAccuracy</th>\n",
       "      <th>NumMosquitos</th>\n",
       "      <th>WnvPresent</th>\n",
       "    </tr>\n",
       "  </thead>\n",
       "  <tbody>\n",
       "    <tr>\n",
       "      <th>0</th>\n",
       "      <td>2007-05-29</td>\n",
       "      <td>4100 North Oak Park Avenue, Chicago, IL 60634,...</td>\n",
       "      <td>CULEX PIPIENS/RESTUANS</td>\n",
       "      <td>41</td>\n",
       "      <td>N OAK PARK AVE</td>\n",
       "      <td>T002</td>\n",
       "      <td>4100  N OAK PARK AVE, Chicago, IL</td>\n",
       "      <td>41.954690</td>\n",
       "      <td>-87.800991</td>\n",
       "      <td>9</td>\n",
       "      <td>1</td>\n",
       "      <td>0</td>\n",
       "    </tr>\n",
       "    <tr>\n",
       "      <th>1</th>\n",
       "      <td>2007-05-29</td>\n",
       "      <td>4100 North Oak Park Avenue, Chicago, IL 60634,...</td>\n",
       "      <td>CULEX RESTUANS</td>\n",
       "      <td>41</td>\n",
       "      <td>N OAK PARK AVE</td>\n",
       "      <td>T002</td>\n",
       "      <td>4100  N OAK PARK AVE, Chicago, IL</td>\n",
       "      <td>41.954690</td>\n",
       "      <td>-87.800991</td>\n",
       "      <td>9</td>\n",
       "      <td>1</td>\n",
       "      <td>0</td>\n",
       "    </tr>\n",
       "    <tr>\n",
       "      <th>2</th>\n",
       "      <td>2007-05-29</td>\n",
       "      <td>6200 North Mandell Avenue, Chicago, IL 60646, USA</td>\n",
       "      <td>CULEX RESTUANS</td>\n",
       "      <td>62</td>\n",
       "      <td>N MANDELL AVE</td>\n",
       "      <td>T007</td>\n",
       "      <td>6200  N MANDELL AVE, Chicago, IL</td>\n",
       "      <td>41.994991</td>\n",
       "      <td>-87.769279</td>\n",
       "      <td>9</td>\n",
       "      <td>1</td>\n",
       "      <td>0</td>\n",
       "    </tr>\n",
       "    <tr>\n",
       "      <th>3</th>\n",
       "      <td>2007-05-29</td>\n",
       "      <td>7900 West Foster Avenue, Chicago, IL 60656, USA</td>\n",
       "      <td>CULEX PIPIENS/RESTUANS</td>\n",
       "      <td>79</td>\n",
       "      <td>W FOSTER AVE</td>\n",
       "      <td>T015</td>\n",
       "      <td>7900  W FOSTER AVE, Chicago, IL</td>\n",
       "      <td>41.974089</td>\n",
       "      <td>-87.824812</td>\n",
       "      <td>8</td>\n",
       "      <td>1</td>\n",
       "      <td>0</td>\n",
       "    </tr>\n",
       "    <tr>\n",
       "      <th>4</th>\n",
       "      <td>2007-05-29</td>\n",
       "      <td>7900 West Foster Avenue, Chicago, IL 60656, USA</td>\n",
       "      <td>CULEX RESTUANS</td>\n",
       "      <td>79</td>\n",
       "      <td>W FOSTER AVE</td>\n",
       "      <td>T015</td>\n",
       "      <td>7900  W FOSTER AVE, Chicago, IL</td>\n",
       "      <td>41.974089</td>\n",
       "      <td>-87.824812</td>\n",
       "      <td>8</td>\n",
       "      <td>4</td>\n",
       "      <td>0</td>\n",
       "    </tr>\n",
       "  </tbody>\n",
       "</table>\n",
       "</div>"
      ],
      "text/plain": [
       "         Date                                            Address  \\\n",
       "0  2007-05-29  4100 North Oak Park Avenue, Chicago, IL 60634,...   \n",
       "1  2007-05-29  4100 North Oak Park Avenue, Chicago, IL 60634,...   \n",
       "2  2007-05-29  6200 North Mandell Avenue, Chicago, IL 60646, USA   \n",
       "3  2007-05-29    7900 West Foster Avenue, Chicago, IL 60656, USA   \n",
       "4  2007-05-29    7900 West Foster Avenue, Chicago, IL 60656, USA   \n",
       "\n",
       "                  Species  Block           Street  Trap  \\\n",
       "0  CULEX PIPIENS/RESTUANS     41   N OAK PARK AVE  T002   \n",
       "1          CULEX RESTUANS     41   N OAK PARK AVE  T002   \n",
       "2          CULEX RESTUANS     62    N MANDELL AVE  T007   \n",
       "3  CULEX PIPIENS/RESTUANS     79     W FOSTER AVE  T015   \n",
       "4          CULEX RESTUANS     79     W FOSTER AVE  T015   \n",
       "\n",
       "              AddressNumberAndStreet   Latitude  Longitude  AddressAccuracy  \\\n",
       "0  4100  N OAK PARK AVE, Chicago, IL  41.954690 -87.800991                9   \n",
       "1  4100  N OAK PARK AVE, Chicago, IL  41.954690 -87.800991                9   \n",
       "2   6200  N MANDELL AVE, Chicago, IL  41.994991 -87.769279                9   \n",
       "3    7900  W FOSTER AVE, Chicago, IL  41.974089 -87.824812                8   \n",
       "4    7900  W FOSTER AVE, Chicago, IL  41.974089 -87.824812                8   \n",
       "\n",
       "   NumMosquitos  WnvPresent  \n",
       "0             1           0  \n",
       "1             1           0  \n",
       "2             1           0  \n",
       "3             1           0  \n",
       "4             4           0  "
      ]
     },
     "execution_count": 187,
     "metadata": {},
     "output_type": "execute_result"
    }
   ],
   "source": [
    "data.head()"
   ]
  },
  {
   "cell_type": "code",
   "execution_count": 188,
   "metadata": {
    "collapsed": false
   },
   "outputs": [
    {
     "data": {
      "text/plain": [
       "CULEX PIPIENS/RESTUANS    4752\n",
       "CULEX RESTUANS            2740\n",
       "CULEX PIPIENS             2699\n",
       "CULEX TERRITANS            222\n",
       "CULEX SALINARIUS            86\n",
       "CULEX TARSALIS               6\n",
       "CULEX ERRATICUS              1\n",
       "Name: Species, dtype: int64"
      ]
     },
     "execution_count": 188,
     "metadata": {},
     "output_type": "execute_result"
    }
   ],
   "source": [
    "data.Species.value_counts()"
   ]
  },
  {
   "cell_type": "code",
   "execution_count": 189,
   "metadata": {
    "collapsed": false
   },
   "outputs": [
    {
     "data": {
      "text/plain": [
       "Date                      0.052446\n",
       "Address                   0.052446\n",
       "Species                   0.052446\n",
       "Block                     0.052446\n",
       "Street                    0.052446\n",
       "Trap                      0.052446\n",
       "AddressNumberAndStreet    0.052446\n",
       "Latitude                  0.052446\n",
       "Longitude                 0.052446\n",
       "AddressAccuracy           0.052446\n",
       "NumMosquitos              0.052446\n",
       "WnvPresent                0.052446\n",
       "dtype: float64"
      ]
     },
     "execution_count": 189,
     "metadata": {},
     "output_type": "execute_result"
    }
   ],
   "source": [
    "float(data.WnvPresent.sum()) / data.count()"
   ]
  },
  {
   "cell_type": "code",
   "execution_count": 190,
   "metadata": {
    "collapsed": false
   },
   "outputs": [
    {
     "data": {
      "text/plain": [
       "Species\n",
       "CULEX ERRATICUS             0\n",
       "CULEX PIPIENS             240\n",
       "CULEX PIPIENS/RESTUANS    262\n",
       "CULEX RESTUANS             49\n",
       "CULEX SALINARIUS            0\n",
       "CULEX TARSALIS              0\n",
       "CULEX TERRITANS             0\n",
       "Name: WnvPresent, dtype: int64"
      ]
     },
     "execution_count": 190,
     "metadata": {},
     "output_type": "execute_result"
    }
   ],
   "source": [
    "data.groupby('Species').WnvPresent.sum()"
   ]
  },
  {
   "cell_type": "code",
   "execution_count": 191,
   "metadata": {
    "collapsed": false
   },
   "outputs": [
    {
     "data": {
      "text/plain": [
       "(10506, 12)"
      ]
     },
     "execution_count": 191,
     "metadata": {},
     "output_type": "execute_result"
    }
   ],
   "source": [
    "data.shape"
   ]
  },
  {
   "cell_type": "code",
   "execution_count": 192,
   "metadata": {
    "collapsed": false
   },
   "outputs": [],
   "source": [
    "# drop redundant columns\n",
    "data = data[['Date', 'Species', 'Trap', 'Latitude', 'Longitude', 'NumMosquitos', 'WnvPresent']]"
   ]
  },
  {
   "cell_type": "code",
   "execution_count": 193,
   "metadata": {
    "collapsed": false
   },
   "outputs": [
    {
     "data": {
      "text/html": [
       "<div>\n",
       "<table border=\"1\" class=\"dataframe\">\n",
       "  <thead>\n",
       "    <tr style=\"text-align: right;\">\n",
       "      <th></th>\n",
       "      <th>Date</th>\n",
       "      <th>Species</th>\n",
       "      <th>Trap</th>\n",
       "      <th>Latitude</th>\n",
       "      <th>Longitude</th>\n",
       "      <th>NumMosquitos</th>\n",
       "      <th>WnvPresent</th>\n",
       "    </tr>\n",
       "  </thead>\n",
       "  <tbody>\n",
       "    <tr>\n",
       "      <th>0</th>\n",
       "      <td>2007-05-29</td>\n",
       "      <td>CULEX PIPIENS/RESTUANS</td>\n",
       "      <td>T002</td>\n",
       "      <td>41.954690</td>\n",
       "      <td>-87.800991</td>\n",
       "      <td>1</td>\n",
       "      <td>0</td>\n",
       "    </tr>\n",
       "    <tr>\n",
       "      <th>1</th>\n",
       "      <td>2007-05-29</td>\n",
       "      <td>CULEX RESTUANS</td>\n",
       "      <td>T002</td>\n",
       "      <td>41.954690</td>\n",
       "      <td>-87.800991</td>\n",
       "      <td>1</td>\n",
       "      <td>0</td>\n",
       "    </tr>\n",
       "    <tr>\n",
       "      <th>2</th>\n",
       "      <td>2007-05-29</td>\n",
       "      <td>CULEX RESTUANS</td>\n",
       "      <td>T007</td>\n",
       "      <td>41.994991</td>\n",
       "      <td>-87.769279</td>\n",
       "      <td>1</td>\n",
       "      <td>0</td>\n",
       "    </tr>\n",
       "    <tr>\n",
       "      <th>3</th>\n",
       "      <td>2007-05-29</td>\n",
       "      <td>CULEX PIPIENS/RESTUANS</td>\n",
       "      <td>T015</td>\n",
       "      <td>41.974089</td>\n",
       "      <td>-87.824812</td>\n",
       "      <td>1</td>\n",
       "      <td>0</td>\n",
       "    </tr>\n",
       "    <tr>\n",
       "      <th>4</th>\n",
       "      <td>2007-05-29</td>\n",
       "      <td>CULEX RESTUANS</td>\n",
       "      <td>T015</td>\n",
       "      <td>41.974089</td>\n",
       "      <td>-87.824812</td>\n",
       "      <td>4</td>\n",
       "      <td>0</td>\n",
       "    </tr>\n",
       "  </tbody>\n",
       "</table>\n",
       "</div>"
      ],
      "text/plain": [
       "         Date                 Species  Trap   Latitude  Longitude  \\\n",
       "0  2007-05-29  CULEX PIPIENS/RESTUANS  T002  41.954690 -87.800991   \n",
       "1  2007-05-29          CULEX RESTUANS  T002  41.954690 -87.800991   \n",
       "2  2007-05-29          CULEX RESTUANS  T007  41.994991 -87.769279   \n",
       "3  2007-05-29  CULEX PIPIENS/RESTUANS  T015  41.974089 -87.824812   \n",
       "4  2007-05-29          CULEX RESTUANS  T015  41.974089 -87.824812   \n",
       "\n",
       "   NumMosquitos  WnvPresent  \n",
       "0             1           0  \n",
       "1             1           0  \n",
       "2             1           0  \n",
       "3             1           0  \n",
       "4             4           0  "
      ]
     },
     "execution_count": 193,
     "metadata": {},
     "output_type": "execute_result"
    }
   ],
   "source": [
    "data.head()"
   ]
  },
  {
   "cell_type": "code",
   "execution_count": 194,
   "metadata": {
    "collapsed": false
   },
   "outputs": [],
   "source": [
    "# calculate the total number of mos for one trap each day\n",
    "mos = data.groupby(['Date', 'Species', 'Trap', 'Latitude', 'Longitude']).NumMosquitos.sum()"
   ]
  },
  {
   "cell_type": "code",
   "execution_count": 195,
   "metadata": {
    "collapsed": false
   },
   "outputs": [
    {
     "data": {
      "text/plain": [
       "Date        Species                 Trap  Latitude   Longitude \n",
       "2007-05-29  CULEX PIPIENS           T096  41.731922  -87.677512    1\n",
       "            CULEX PIPIENS/RESTUANS  T002  41.954690  -87.800991    1\n",
       "                                    T015  41.974089  -87.824812    1\n",
       "                                    T048  41.867108  -87.654224    1\n",
       "                                    T050  41.919343  -87.694259    1\n",
       "                                    T054  41.921965  -87.632085    2\n",
       "                                    T086  41.688324  -87.676709    1\n",
       "                                    T129  41.891126  -87.611560    1\n",
       "                                    T143  41.999129  -87.795585    1\n",
       "                                    T148  42.017430  -87.687769    1\n",
       "            CULEX RESTUANS          T002  41.954690  -87.800991    1\n",
       "                                    T007  41.994991  -87.769279    1\n",
       "                                    T015  41.974089  -87.824812    4\n",
       "                                    T045  41.921600  -87.666455    2\n",
       "                                    T046  41.891118  -87.654491    1\n",
       "                                    T048  41.867108  -87.654224    2\n",
       "                                    T049  41.896282  -87.655232    1\n",
       "                                    T054  41.921965  -87.632085    3\n",
       "                                    T086  41.688324  -87.676709    1\n",
       "                                    T091  41.862292  -87.648860    1\n",
       "Name: NumMosquitos, dtype: int64"
      ]
     },
     "execution_count": 195,
     "metadata": {},
     "output_type": "execute_result"
    }
   ],
   "source": [
    "mos.head(20)"
   ]
  },
  {
   "cell_type": "code",
   "execution_count": 196,
   "metadata": {
    "collapsed": true
   },
   "outputs": [],
   "source": [
    "wnv = data.groupby(['Date', 'Species', 'Trap', 'Latitude', 'Longitude']).WnvPresent.sum()"
   ]
  },
  {
   "cell_type": "code",
   "execution_count": 197,
   "metadata": {
    "collapsed": false
   },
   "outputs": [],
   "source": [
    "# put number of mos and virus present back together\n",
    "df = pd.concat([mos, wnv], axis=1)"
   ]
  },
  {
   "cell_type": "code",
   "execution_count": 198,
   "metadata": {
    "collapsed": false
   },
   "outputs": [
    {
     "data": {
      "text/html": [
       "<div>\n",
       "<table border=\"1\" class=\"dataframe\">\n",
       "  <thead>\n",
       "    <tr style=\"text-align: right;\">\n",
       "      <th></th>\n",
       "      <th></th>\n",
       "      <th></th>\n",
       "      <th></th>\n",
       "      <th></th>\n",
       "      <th>NumMosquitos</th>\n",
       "      <th>WnvPresent</th>\n",
       "    </tr>\n",
       "    <tr>\n",
       "      <th>Date</th>\n",
       "      <th>Species</th>\n",
       "      <th>Trap</th>\n",
       "      <th>Latitude</th>\n",
       "      <th>Longitude</th>\n",
       "      <th></th>\n",
       "      <th></th>\n",
       "    </tr>\n",
       "  </thead>\n",
       "  <tbody>\n",
       "    <tr>\n",
       "      <th rowspan=\"5\" valign=\"top\">2007-05-29</th>\n",
       "      <th>CULEX PIPIENS</th>\n",
       "      <th>T096</th>\n",
       "      <th>41.731922</th>\n",
       "      <th>-87.677512</th>\n",
       "      <td>1</td>\n",
       "      <td>0</td>\n",
       "    </tr>\n",
       "    <tr>\n",
       "      <th rowspan=\"4\" valign=\"top\">CULEX PIPIENS/RESTUANS</th>\n",
       "      <th>T002</th>\n",
       "      <th>41.954690</th>\n",
       "      <th>-87.800991</th>\n",
       "      <td>1</td>\n",
       "      <td>0</td>\n",
       "    </tr>\n",
       "    <tr>\n",
       "      <th>T015</th>\n",
       "      <th>41.974089</th>\n",
       "      <th>-87.824812</th>\n",
       "      <td>1</td>\n",
       "      <td>0</td>\n",
       "    </tr>\n",
       "    <tr>\n",
       "      <th>T048</th>\n",
       "      <th>41.867108</th>\n",
       "      <th>-87.654224</th>\n",
       "      <td>1</td>\n",
       "      <td>0</td>\n",
       "    </tr>\n",
       "    <tr>\n",
       "      <th>T050</th>\n",
       "      <th>41.919343</th>\n",
       "      <th>-87.694259</th>\n",
       "      <td>1</td>\n",
       "      <td>0</td>\n",
       "    </tr>\n",
       "  </tbody>\n",
       "</table>\n",
       "</div>"
      ],
      "text/plain": [
       "                                                             NumMosquitos  \\\n",
       "Date       Species                Trap Latitude  Longitude                  \n",
       "2007-05-29 CULEX PIPIENS          T096 41.731922 -87.677512             1   \n",
       "           CULEX PIPIENS/RESTUANS T002 41.954690 -87.800991             1   \n",
       "                                  T015 41.974089 -87.824812             1   \n",
       "                                  T048 41.867108 -87.654224             1   \n",
       "                                  T050 41.919343 -87.694259             1   \n",
       "\n",
       "                                                             WnvPresent  \n",
       "Date       Species                Trap Latitude  Longitude               \n",
       "2007-05-29 CULEX PIPIENS          T096 41.731922 -87.677512           0  \n",
       "           CULEX PIPIENS/RESTUANS T002 41.954690 -87.800991           0  \n",
       "                                  T015 41.974089 -87.824812           0  \n",
       "                                  T048 41.867108 -87.654224           0  \n",
       "                                  T050 41.919343 -87.694259           0  "
      ]
     },
     "execution_count": 198,
     "metadata": {},
     "output_type": "execute_result"
    }
   ],
   "source": [
    "# now all the columns we group on are indices, need to convert them back to column names\n",
    "df.head()"
   ]
  },
  {
   "cell_type": "code",
   "execution_count": 199,
   "metadata": {
    "collapsed": false
   },
   "outputs": [],
   "source": [
    "df.reset_index(level=['Date', 'Species', 'Trap', 'Latitude', 'Longitude'], inplace=True)"
   ]
  },
  {
   "cell_type": "code",
   "execution_count": 200,
   "metadata": {
    "collapsed": false
   },
   "outputs": [
    {
     "data": {
      "text/html": [
       "<div>\n",
       "<table border=\"1\" class=\"dataframe\">\n",
       "  <thead>\n",
       "    <tr style=\"text-align: right;\">\n",
       "      <th></th>\n",
       "      <th>Date</th>\n",
       "      <th>Species</th>\n",
       "      <th>Trap</th>\n",
       "      <th>Latitude</th>\n",
       "      <th>Longitude</th>\n",
       "      <th>NumMosquitos</th>\n",
       "      <th>WnvPresent</th>\n",
       "    </tr>\n",
       "  </thead>\n",
       "  <tbody>\n",
       "    <tr>\n",
       "      <th>0</th>\n",
       "      <td>2007-05-29</td>\n",
       "      <td>CULEX PIPIENS</td>\n",
       "      <td>T096</td>\n",
       "      <td>41.731922</td>\n",
       "      <td>-87.677512</td>\n",
       "      <td>1</td>\n",
       "      <td>0</td>\n",
       "    </tr>\n",
       "    <tr>\n",
       "      <th>1</th>\n",
       "      <td>2007-05-29</td>\n",
       "      <td>CULEX PIPIENS/RESTUANS</td>\n",
       "      <td>T002</td>\n",
       "      <td>41.954690</td>\n",
       "      <td>-87.800991</td>\n",
       "      <td>1</td>\n",
       "      <td>0</td>\n",
       "    </tr>\n",
       "    <tr>\n",
       "      <th>2</th>\n",
       "      <td>2007-05-29</td>\n",
       "      <td>CULEX PIPIENS/RESTUANS</td>\n",
       "      <td>T015</td>\n",
       "      <td>41.974089</td>\n",
       "      <td>-87.824812</td>\n",
       "      <td>1</td>\n",
       "      <td>0</td>\n",
       "    </tr>\n",
       "    <tr>\n",
       "      <th>3</th>\n",
       "      <td>2007-05-29</td>\n",
       "      <td>CULEX PIPIENS/RESTUANS</td>\n",
       "      <td>T048</td>\n",
       "      <td>41.867108</td>\n",
       "      <td>-87.654224</td>\n",
       "      <td>1</td>\n",
       "      <td>0</td>\n",
       "    </tr>\n",
       "    <tr>\n",
       "      <th>4</th>\n",
       "      <td>2007-05-29</td>\n",
       "      <td>CULEX PIPIENS/RESTUANS</td>\n",
       "      <td>T050</td>\n",
       "      <td>41.919343</td>\n",
       "      <td>-87.694259</td>\n",
       "      <td>1</td>\n",
       "      <td>0</td>\n",
       "    </tr>\n",
       "  </tbody>\n",
       "</table>\n",
       "</div>"
      ],
      "text/plain": [
       "         Date                 Species  Trap   Latitude  Longitude  \\\n",
       "0  2007-05-29           CULEX PIPIENS  T096  41.731922 -87.677512   \n",
       "1  2007-05-29  CULEX PIPIENS/RESTUANS  T002  41.954690 -87.800991   \n",
       "2  2007-05-29  CULEX PIPIENS/RESTUANS  T015  41.974089 -87.824812   \n",
       "3  2007-05-29  CULEX PIPIENS/RESTUANS  T048  41.867108 -87.654224   \n",
       "4  2007-05-29  CULEX PIPIENS/RESTUANS  T050  41.919343 -87.694259   \n",
       "\n",
       "   NumMosquitos  WnvPresent  \n",
       "0             1           0  \n",
       "1             1           0  \n",
       "2             1           0  \n",
       "3             1           0  \n",
       "4             1           0  "
      ]
     },
     "execution_count": 200,
     "metadata": {},
     "output_type": "execute_result"
    }
   ],
   "source": [
    "df.head()"
   ]
  },
  {
   "cell_type": "code",
   "execution_count": 201,
   "metadata": {
    "collapsed": false
   },
   "outputs": [
    {
     "data": {
      "text/plain": [
       "0     8018\n",
       "1      409\n",
       "2       31\n",
       "3        9\n",
       "4        2\n",
       "7        1\n",
       "6        1\n",
       "5        1\n",
       "10       1\n",
       "9        1\n",
       "8        1\n",
       "Name: WnvPresent, dtype: int64"
      ]
     },
     "execution_count": 201,
     "metadata": {},
     "output_type": "execute_result"
    }
   ],
   "source": [
    "# we have values over 1, need to convert them back to 1\n",
    "df.WnvPresent.value_counts()"
   ]
  },
  {
   "cell_type": "code",
   "execution_count": 202,
   "metadata": {
    "collapsed": false
   },
   "outputs": [],
   "source": [
    "df.WnvPresent = df.WnvPresent.apply(lambda x: 1 if x>=1 else 0)"
   ]
  },
  {
   "cell_type": "code",
   "execution_count": 203,
   "metadata": {
    "collapsed": false
   },
   "outputs": [
    {
     "data": {
      "text/html": [
       "<div>\n",
       "<table border=\"1\" class=\"dataframe\">\n",
       "  <thead>\n",
       "    <tr style=\"text-align: right;\">\n",
       "      <th></th>\n",
       "      <th>Date</th>\n",
       "      <th>Species</th>\n",
       "      <th>Trap</th>\n",
       "      <th>Latitude</th>\n",
       "      <th>Longitude</th>\n",
       "      <th>NumMosquitos</th>\n",
       "      <th>WnvPresent</th>\n",
       "    </tr>\n",
       "  </thead>\n",
       "  <tbody>\n",
       "    <tr>\n",
       "      <th>0</th>\n",
       "      <td>2007-05-29</td>\n",
       "      <td>CULEX PIPIENS</td>\n",
       "      <td>T096</td>\n",
       "      <td>41.731922</td>\n",
       "      <td>-87.677512</td>\n",
       "      <td>1</td>\n",
       "      <td>0</td>\n",
       "    </tr>\n",
       "    <tr>\n",
       "      <th>1</th>\n",
       "      <td>2007-05-29</td>\n",
       "      <td>CULEX PIPIENS/RESTUANS</td>\n",
       "      <td>T002</td>\n",
       "      <td>41.954690</td>\n",
       "      <td>-87.800991</td>\n",
       "      <td>1</td>\n",
       "      <td>0</td>\n",
       "    </tr>\n",
       "    <tr>\n",
       "      <th>2</th>\n",
       "      <td>2007-05-29</td>\n",
       "      <td>CULEX PIPIENS/RESTUANS</td>\n",
       "      <td>T015</td>\n",
       "      <td>41.974089</td>\n",
       "      <td>-87.824812</td>\n",
       "      <td>1</td>\n",
       "      <td>0</td>\n",
       "    </tr>\n",
       "    <tr>\n",
       "      <th>3</th>\n",
       "      <td>2007-05-29</td>\n",
       "      <td>CULEX PIPIENS/RESTUANS</td>\n",
       "      <td>T048</td>\n",
       "      <td>41.867108</td>\n",
       "      <td>-87.654224</td>\n",
       "      <td>1</td>\n",
       "      <td>0</td>\n",
       "    </tr>\n",
       "    <tr>\n",
       "      <th>4</th>\n",
       "      <td>2007-05-29</td>\n",
       "      <td>CULEX PIPIENS/RESTUANS</td>\n",
       "      <td>T050</td>\n",
       "      <td>41.919343</td>\n",
       "      <td>-87.694259</td>\n",
       "      <td>1</td>\n",
       "      <td>0</td>\n",
       "    </tr>\n",
       "  </tbody>\n",
       "</table>\n",
       "</div>"
      ],
      "text/plain": [
       "         Date                 Species  Trap   Latitude  Longitude  \\\n",
       "0  2007-05-29           CULEX PIPIENS  T096  41.731922 -87.677512   \n",
       "1  2007-05-29  CULEX PIPIENS/RESTUANS  T002  41.954690 -87.800991   \n",
       "2  2007-05-29  CULEX PIPIENS/RESTUANS  T015  41.974089 -87.824812   \n",
       "3  2007-05-29  CULEX PIPIENS/RESTUANS  T048  41.867108 -87.654224   \n",
       "4  2007-05-29  CULEX PIPIENS/RESTUANS  T050  41.919343 -87.694259   \n",
       "\n",
       "   NumMosquitos  WnvPresent  \n",
       "0             1           0  \n",
       "1             1           0  \n",
       "2             1           0  \n",
       "3             1           0  \n",
       "4             1           0  "
      ]
     },
     "execution_count": 203,
     "metadata": {},
     "output_type": "execute_result"
    }
   ],
   "source": [
    "df.head()"
   ]
  },
  {
   "cell_type": "code",
   "execution_count": 204,
   "metadata": {
    "collapsed": false
   },
   "outputs": [
    {
     "data": {
      "text/plain": [
       "0    8018\n",
       "1     457\n",
       "Name: WnvPresent, dtype: int64"
      ]
     },
     "execution_count": 204,
     "metadata": {},
     "output_type": "execute_result"
    }
   ],
   "source": [
    "df.WnvPresent.value_counts()"
   ]
  },
  {
   "cell_type": "code",
   "execution_count": 205,
   "metadata": {
    "collapsed": false
   },
   "outputs": [
    {
     "data": {
      "text/plain": [
       "(8475, 7)"
      ]
     },
     "execution_count": 205,
     "metadata": {},
     "output_type": "execute_result"
    }
   ],
   "source": [
    "df.shape"
   ]
  },
  {
   "cell_type": "code",
   "execution_count": 206,
   "metadata": {
    "collapsed": false
   },
   "outputs": [
    {
     "data": {
      "text/plain": [
       "Date            0\n",
       "Species         0\n",
       "Trap            0\n",
       "Latitude        0\n",
       "Longitude       0\n",
       "NumMosquitos    0\n",
       "WnvPresent      0\n",
       "dtype: int64"
      ]
     },
     "execution_count": 206,
     "metadata": {},
     "output_type": "execute_result"
    }
   ],
   "source": [
    "df.isnull().sum()"
   ]
  },
  {
   "cell_type": "code",
   "execution_count": 207,
   "metadata": {
    "collapsed": false
   },
   "outputs": [
    {
     "data": {
      "text/plain": [
       "Date             object\n",
       "Species          object\n",
       "Trap             object\n",
       "Latitude        float64\n",
       "Longitude       float64\n",
       "NumMosquitos      int64\n",
       "WnvPresent        int64\n",
       "dtype: object"
      ]
     },
     "execution_count": 207,
     "metadata": {},
     "output_type": "execute_result"
    }
   ],
   "source": [
    "df.dtypes"
   ]
  },
  {
   "cell_type": "code",
   "execution_count": 208,
   "metadata": {
    "collapsed": true
   },
   "outputs": [],
   "source": [
    "df.Date = pd.to_datetime(df.Date)"
   ]
  },
  {
   "cell_type": "code",
   "execution_count": 209,
   "metadata": {
    "collapsed": false
   },
   "outputs": [
    {
     "data": {
      "text/plain": [
       "Date            datetime64[ns]\n",
       "Species                 object\n",
       "Trap                    object\n",
       "Latitude               float64\n",
       "Longitude              float64\n",
       "NumMosquitos             int64\n",
       "WnvPresent               int64\n",
       "dtype: object"
      ]
     },
     "execution_count": 209,
     "metadata": {},
     "output_type": "execute_result"
    }
   ],
   "source": [
    "df.dtypes"
   ]
  },
  {
   "cell_type": "code",
   "execution_count": 210,
   "metadata": {
    "collapsed": false
   },
   "outputs": [],
   "source": [
    "weather = pd.read_csv(\"weather.csv\")"
   ]
  },
  {
   "cell_type": "code",
   "execution_count": 211,
   "metadata": {
    "collapsed": false
   },
   "outputs": [
    {
     "data": {
      "text/html": [
       "<div>\n",
       "<table border=\"1\" class=\"dataframe\">\n",
       "  <thead>\n",
       "    <tr style=\"text-align: right;\">\n",
       "      <th></th>\n",
       "      <th>Station</th>\n",
       "      <th>Date</th>\n",
       "      <th>Tmax</th>\n",
       "      <th>Tmin</th>\n",
       "      <th>Tavg</th>\n",
       "      <th>Depart</th>\n",
       "      <th>DewPoint</th>\n",
       "      <th>WetBulb</th>\n",
       "      <th>Heat</th>\n",
       "      <th>Cool</th>\n",
       "      <th>...</th>\n",
       "      <th>CodeSum</th>\n",
       "      <th>Depth</th>\n",
       "      <th>Water1</th>\n",
       "      <th>SnowFall</th>\n",
       "      <th>PrecipTotal</th>\n",
       "      <th>StnPressure</th>\n",
       "      <th>SeaLevel</th>\n",
       "      <th>ResultSpeed</th>\n",
       "      <th>ResultDir</th>\n",
       "      <th>AvgSpeed</th>\n",
       "    </tr>\n",
       "  </thead>\n",
       "  <tbody>\n",
       "    <tr>\n",
       "      <th>0</th>\n",
       "      <td>1</td>\n",
       "      <td>2007-05-01</td>\n",
       "      <td>83</td>\n",
       "      <td>50</td>\n",
       "      <td>67</td>\n",
       "      <td>14</td>\n",
       "      <td>51</td>\n",
       "      <td>56</td>\n",
       "      <td>0</td>\n",
       "      <td>2</td>\n",
       "      <td>...</td>\n",
       "      <td></td>\n",
       "      <td>0</td>\n",
       "      <td>M</td>\n",
       "      <td>0.0</td>\n",
       "      <td>0.00</td>\n",
       "      <td>29.10</td>\n",
       "      <td>29.82</td>\n",
       "      <td>1.7</td>\n",
       "      <td>27</td>\n",
       "      <td>9.2</td>\n",
       "    </tr>\n",
       "    <tr>\n",
       "      <th>1</th>\n",
       "      <td>2</td>\n",
       "      <td>2007-05-01</td>\n",
       "      <td>84</td>\n",
       "      <td>52</td>\n",
       "      <td>68</td>\n",
       "      <td>M</td>\n",
       "      <td>51</td>\n",
       "      <td>57</td>\n",
       "      <td>0</td>\n",
       "      <td>3</td>\n",
       "      <td>...</td>\n",
       "      <td></td>\n",
       "      <td>M</td>\n",
       "      <td>M</td>\n",
       "      <td>M</td>\n",
       "      <td>0.00</td>\n",
       "      <td>29.18</td>\n",
       "      <td>29.82</td>\n",
       "      <td>2.7</td>\n",
       "      <td>25</td>\n",
       "      <td>9.6</td>\n",
       "    </tr>\n",
       "    <tr>\n",
       "      <th>2</th>\n",
       "      <td>1</td>\n",
       "      <td>2007-05-02</td>\n",
       "      <td>59</td>\n",
       "      <td>42</td>\n",
       "      <td>51</td>\n",
       "      <td>-3</td>\n",
       "      <td>42</td>\n",
       "      <td>47</td>\n",
       "      <td>14</td>\n",
       "      <td>0</td>\n",
       "      <td>...</td>\n",
       "      <td>BR</td>\n",
       "      <td>0</td>\n",
       "      <td>M</td>\n",
       "      <td>0.0</td>\n",
       "      <td>0.00</td>\n",
       "      <td>29.38</td>\n",
       "      <td>30.09</td>\n",
       "      <td>13.0</td>\n",
       "      <td>4</td>\n",
       "      <td>13.4</td>\n",
       "    </tr>\n",
       "    <tr>\n",
       "      <th>3</th>\n",
       "      <td>2</td>\n",
       "      <td>2007-05-02</td>\n",
       "      <td>60</td>\n",
       "      <td>43</td>\n",
       "      <td>52</td>\n",
       "      <td>M</td>\n",
       "      <td>42</td>\n",
       "      <td>47</td>\n",
       "      <td>13</td>\n",
       "      <td>0</td>\n",
       "      <td>...</td>\n",
       "      <td>BR HZ</td>\n",
       "      <td>M</td>\n",
       "      <td>M</td>\n",
       "      <td>M</td>\n",
       "      <td>0.00</td>\n",
       "      <td>29.44</td>\n",
       "      <td>30.08</td>\n",
       "      <td>13.3</td>\n",
       "      <td>2</td>\n",
       "      <td>13.4</td>\n",
       "    </tr>\n",
       "    <tr>\n",
       "      <th>4</th>\n",
       "      <td>1</td>\n",
       "      <td>2007-05-03</td>\n",
       "      <td>66</td>\n",
       "      <td>46</td>\n",
       "      <td>56</td>\n",
       "      <td>2</td>\n",
       "      <td>40</td>\n",
       "      <td>48</td>\n",
       "      <td>9</td>\n",
       "      <td>0</td>\n",
       "      <td>...</td>\n",
       "      <td></td>\n",
       "      <td>0</td>\n",
       "      <td>M</td>\n",
       "      <td>0.0</td>\n",
       "      <td>0.00</td>\n",
       "      <td>29.39</td>\n",
       "      <td>30.12</td>\n",
       "      <td>11.7</td>\n",
       "      <td>7</td>\n",
       "      <td>11.9</td>\n",
       "    </tr>\n",
       "  </tbody>\n",
       "</table>\n",
       "<p>5 rows × 22 columns</p>\n",
       "</div>"
      ],
      "text/plain": [
       "   Station        Date  Tmax  Tmin Tavg Depart  DewPoint WetBulb Heat Cool  \\\n",
       "0        1  2007-05-01    83    50   67     14        51      56    0    2   \n",
       "1        2  2007-05-01    84    52   68      M        51      57    0    3   \n",
       "2        1  2007-05-02    59    42   51     -3        42      47   14    0   \n",
       "3        2  2007-05-02    60    43   52      M        42      47   13    0   \n",
       "4        1  2007-05-03    66    46   56      2        40      48    9    0   \n",
       "\n",
       "     ...    CodeSum Depth Water1 SnowFall PrecipTotal StnPressure SeaLevel  \\\n",
       "0    ...                0      M      0.0        0.00       29.10    29.82   \n",
       "1    ...                M      M        M        0.00       29.18    29.82   \n",
       "2    ...         BR     0      M      0.0        0.00       29.38    30.09   \n",
       "3    ...      BR HZ     M      M        M        0.00       29.44    30.08   \n",
       "4    ...                0      M      0.0        0.00       29.39    30.12   \n",
       "\n",
       "  ResultSpeed ResultDir  AvgSpeed  \n",
       "0         1.7        27       9.2  \n",
       "1         2.7        25       9.6  \n",
       "2        13.0         4      13.4  \n",
       "3        13.3         2      13.4  \n",
       "4        11.7         7      11.9  \n",
       "\n",
       "[5 rows x 22 columns]"
      ]
     },
     "execution_count": 211,
     "metadata": {},
     "output_type": "execute_result"
    }
   ],
   "source": [
    "weather.head()"
   ]
  },
  {
   "cell_type": "code",
   "execution_count": 212,
   "metadata": {
    "collapsed": false
   },
   "outputs": [],
   "source": [
    "weather.drop('CodeSum', axis=1, inplace=True)"
   ]
  },
  {
   "cell_type": "code",
   "execution_count": 213,
   "metadata": {
    "collapsed": false
   },
   "outputs": [],
   "source": [
    "weather1 = weather[weather['Station']==1]\n",
    "weather2 = weather[weather['Station']==2]\n",
    "weather1 = weather1.drop('Station', axis=1)\n",
    "weather2 = weather2.drop('Station', axis=1)"
   ]
  },
  {
   "cell_type": "code",
   "execution_count": 214,
   "metadata": {
    "collapsed": false
   },
   "outputs": [
    {
     "data": {
      "text/html": [
       "<div>\n",
       "<table border=\"1\" class=\"dataframe\">\n",
       "  <thead>\n",
       "    <tr style=\"text-align: right;\">\n",
       "      <th></th>\n",
       "      <th>Date</th>\n",
       "      <th>Tmax</th>\n",
       "      <th>Tmin</th>\n",
       "      <th>Tavg</th>\n",
       "      <th>Depart</th>\n",
       "      <th>DewPoint</th>\n",
       "      <th>WetBulb</th>\n",
       "      <th>Heat</th>\n",
       "      <th>Cool</th>\n",
       "      <th>Sunrise</th>\n",
       "      <th>Sunset</th>\n",
       "      <th>Depth</th>\n",
       "      <th>Water1</th>\n",
       "      <th>SnowFall</th>\n",
       "      <th>PrecipTotal</th>\n",
       "      <th>StnPressure</th>\n",
       "      <th>SeaLevel</th>\n",
       "      <th>ResultSpeed</th>\n",
       "      <th>ResultDir</th>\n",
       "      <th>AvgSpeed</th>\n",
       "    </tr>\n",
       "  </thead>\n",
       "  <tbody>\n",
       "    <tr>\n",
       "      <th>0</th>\n",
       "      <td>2007-05-01</td>\n",
       "      <td>83</td>\n",
       "      <td>50</td>\n",
       "      <td>67</td>\n",
       "      <td>14</td>\n",
       "      <td>51</td>\n",
       "      <td>56</td>\n",
       "      <td>0</td>\n",
       "      <td>2</td>\n",
       "      <td>0448</td>\n",
       "      <td>1849</td>\n",
       "      <td>0</td>\n",
       "      <td>M</td>\n",
       "      <td>0.0</td>\n",
       "      <td>0.00</td>\n",
       "      <td>29.10</td>\n",
       "      <td>29.82</td>\n",
       "      <td>1.7</td>\n",
       "      <td>27</td>\n",
       "      <td>9.2</td>\n",
       "    </tr>\n",
       "    <tr>\n",
       "      <th>2</th>\n",
       "      <td>2007-05-02</td>\n",
       "      <td>59</td>\n",
       "      <td>42</td>\n",
       "      <td>51</td>\n",
       "      <td>-3</td>\n",
       "      <td>42</td>\n",
       "      <td>47</td>\n",
       "      <td>14</td>\n",
       "      <td>0</td>\n",
       "      <td>0447</td>\n",
       "      <td>1850</td>\n",
       "      <td>0</td>\n",
       "      <td>M</td>\n",
       "      <td>0.0</td>\n",
       "      <td>0.00</td>\n",
       "      <td>29.38</td>\n",
       "      <td>30.09</td>\n",
       "      <td>13.0</td>\n",
       "      <td>4</td>\n",
       "      <td>13.4</td>\n",
       "    </tr>\n",
       "    <tr>\n",
       "      <th>4</th>\n",
       "      <td>2007-05-03</td>\n",
       "      <td>66</td>\n",
       "      <td>46</td>\n",
       "      <td>56</td>\n",
       "      <td>2</td>\n",
       "      <td>40</td>\n",
       "      <td>48</td>\n",
       "      <td>9</td>\n",
       "      <td>0</td>\n",
       "      <td>0446</td>\n",
       "      <td>1851</td>\n",
       "      <td>0</td>\n",
       "      <td>M</td>\n",
       "      <td>0.0</td>\n",
       "      <td>0.00</td>\n",
       "      <td>29.39</td>\n",
       "      <td>30.12</td>\n",
       "      <td>11.7</td>\n",
       "      <td>7</td>\n",
       "      <td>11.9</td>\n",
       "    </tr>\n",
       "    <tr>\n",
       "      <th>6</th>\n",
       "      <td>2007-05-04</td>\n",
       "      <td>66</td>\n",
       "      <td>49</td>\n",
       "      <td>58</td>\n",
       "      <td>4</td>\n",
       "      <td>41</td>\n",
       "      <td>50</td>\n",
       "      <td>7</td>\n",
       "      <td>0</td>\n",
       "      <td>0444</td>\n",
       "      <td>1852</td>\n",
       "      <td>0</td>\n",
       "      <td>M</td>\n",
       "      <td>0.0</td>\n",
       "      <td>T</td>\n",
       "      <td>29.31</td>\n",
       "      <td>30.05</td>\n",
       "      <td>10.4</td>\n",
       "      <td>8</td>\n",
       "      <td>10.8</td>\n",
       "    </tr>\n",
       "    <tr>\n",
       "      <th>8</th>\n",
       "      <td>2007-05-05</td>\n",
       "      <td>66</td>\n",
       "      <td>53</td>\n",
       "      <td>60</td>\n",
       "      <td>5</td>\n",
       "      <td>38</td>\n",
       "      <td>49</td>\n",
       "      <td>5</td>\n",
       "      <td>0</td>\n",
       "      <td>0443</td>\n",
       "      <td>1853</td>\n",
       "      <td>0</td>\n",
       "      <td>M</td>\n",
       "      <td>0.0</td>\n",
       "      <td>T</td>\n",
       "      <td>29.40</td>\n",
       "      <td>30.10</td>\n",
       "      <td>11.7</td>\n",
       "      <td>7</td>\n",
       "      <td>12.0</td>\n",
       "    </tr>\n",
       "  </tbody>\n",
       "</table>\n",
       "</div>"
      ],
      "text/plain": [
       "         Date  Tmax  Tmin Tavg Depart  DewPoint WetBulb Heat Cool Sunrise  \\\n",
       "0  2007-05-01    83    50   67     14        51      56    0    2    0448   \n",
       "2  2007-05-02    59    42   51     -3        42      47   14    0    0447   \n",
       "4  2007-05-03    66    46   56      2        40      48    9    0    0446   \n",
       "6  2007-05-04    66    49   58      4        41      50    7    0    0444   \n",
       "8  2007-05-05    66    53   60      5        38      49    5    0    0443   \n",
       "\n",
       "  Sunset Depth Water1 SnowFall PrecipTotal StnPressure SeaLevel  ResultSpeed  \\\n",
       "0   1849     0      M      0.0        0.00       29.10    29.82          1.7   \n",
       "2   1850     0      M      0.0        0.00       29.38    30.09         13.0   \n",
       "4   1851     0      M      0.0        0.00       29.39    30.12         11.7   \n",
       "6   1852     0      M      0.0           T       29.31    30.05         10.4   \n",
       "8   1853     0      M      0.0           T       29.40    30.10         11.7   \n",
       "\n",
       "   ResultDir AvgSpeed  \n",
       "0         27      9.2  \n",
       "2          4     13.4  \n",
       "4          7     11.9  \n",
       "6          8     10.8  \n",
       "8          7     12.0  "
      ]
     },
     "execution_count": 214,
     "metadata": {},
     "output_type": "execute_result"
    }
   ],
   "source": [
    "weather1.head()"
   ]
  },
  {
   "cell_type": "code",
   "execution_count": 215,
   "metadata": {
    "collapsed": false
   },
   "outputs": [],
   "source": [
    "weather1.columns = weather1.columns + str(1)"
   ]
  },
  {
   "cell_type": "code",
   "execution_count": 216,
   "metadata": {
    "collapsed": false
   },
   "outputs": [
    {
     "data": {
      "text/plain": [
       "Index([u'Date1', u'Tmax1', u'Tmin1', u'Tavg1', u'Depart1', u'DewPoint1',\n",
       "       u'WetBulb1', u'Heat1', u'Cool1', u'Sunrise1', u'Sunset1', u'Depth1',\n",
       "       u'Water11', u'SnowFall1', u'PrecipTotal1', u'StnPressure1',\n",
       "       u'SeaLevel1', u'ResultSpeed1', u'ResultDir1', u'AvgSpeed1'],\n",
       "      dtype='object')"
      ]
     },
     "execution_count": 216,
     "metadata": {},
     "output_type": "execute_result"
    }
   ],
   "source": [
    "weather1.columns"
   ]
  },
  {
   "cell_type": "code",
   "execution_count": 217,
   "metadata": {
    "collapsed": false
   },
   "outputs": [],
   "source": [
    "weather1.rename(columns={'Date1': 'Date'}, inplace=True)"
   ]
  },
  {
   "cell_type": "code",
   "execution_count": 218,
   "metadata": {
    "collapsed": true
   },
   "outputs": [],
   "source": [
    "weather2.columns = weather2.columns +str(2)"
   ]
  },
  {
   "cell_type": "code",
   "execution_count": 219,
   "metadata": {
    "collapsed": true
   },
   "outputs": [],
   "source": [
    "weather2.rename(columns={'Date2': 'Date'}, inplace=True)"
   ]
  },
  {
   "cell_type": "code",
   "execution_count": 220,
   "metadata": {
    "collapsed": false
   },
   "outputs": [],
   "source": [
    "weather = weather1.merge(weather2, on='Date')"
   ]
  },
  {
   "cell_type": "code",
   "execution_count": 221,
   "metadata": {
    "collapsed": false
   },
   "outputs": [
    {
     "data": {
      "text/html": [
       "<div>\n",
       "<table border=\"1\" class=\"dataframe\">\n",
       "  <thead>\n",
       "    <tr style=\"text-align: right;\">\n",
       "      <th></th>\n",
       "      <th>Date</th>\n",
       "      <th>Tmax1</th>\n",
       "      <th>Tmin1</th>\n",
       "      <th>Tavg1</th>\n",
       "      <th>Depart1</th>\n",
       "      <th>DewPoint1</th>\n",
       "      <th>WetBulb1</th>\n",
       "      <th>Heat1</th>\n",
       "      <th>Cool1</th>\n",
       "      <th>Sunrise1</th>\n",
       "      <th>...</th>\n",
       "      <th>Sunset2</th>\n",
       "      <th>Depth2</th>\n",
       "      <th>Water12</th>\n",
       "      <th>SnowFall2</th>\n",
       "      <th>PrecipTotal2</th>\n",
       "      <th>StnPressure2</th>\n",
       "      <th>SeaLevel2</th>\n",
       "      <th>ResultSpeed2</th>\n",
       "      <th>ResultDir2</th>\n",
       "      <th>AvgSpeed2</th>\n",
       "    </tr>\n",
       "  </thead>\n",
       "  <tbody>\n",
       "    <tr>\n",
       "      <th>0</th>\n",
       "      <td>2007-05-01</td>\n",
       "      <td>83</td>\n",
       "      <td>50</td>\n",
       "      <td>67</td>\n",
       "      <td>14</td>\n",
       "      <td>51</td>\n",
       "      <td>56</td>\n",
       "      <td>0</td>\n",
       "      <td>2</td>\n",
       "      <td>0448</td>\n",
       "      <td>...</td>\n",
       "      <td>-</td>\n",
       "      <td>M</td>\n",
       "      <td>M</td>\n",
       "      <td>M</td>\n",
       "      <td>0.00</td>\n",
       "      <td>29.18</td>\n",
       "      <td>29.82</td>\n",
       "      <td>2.7</td>\n",
       "      <td>25</td>\n",
       "      <td>9.6</td>\n",
       "    </tr>\n",
       "    <tr>\n",
       "      <th>1</th>\n",
       "      <td>2007-05-02</td>\n",
       "      <td>59</td>\n",
       "      <td>42</td>\n",
       "      <td>51</td>\n",
       "      <td>-3</td>\n",
       "      <td>42</td>\n",
       "      <td>47</td>\n",
       "      <td>14</td>\n",
       "      <td>0</td>\n",
       "      <td>0447</td>\n",
       "      <td>...</td>\n",
       "      <td>-</td>\n",
       "      <td>M</td>\n",
       "      <td>M</td>\n",
       "      <td>M</td>\n",
       "      <td>0.00</td>\n",
       "      <td>29.44</td>\n",
       "      <td>30.08</td>\n",
       "      <td>13.3</td>\n",
       "      <td>2</td>\n",
       "      <td>13.4</td>\n",
       "    </tr>\n",
       "    <tr>\n",
       "      <th>2</th>\n",
       "      <td>2007-05-03</td>\n",
       "      <td>66</td>\n",
       "      <td>46</td>\n",
       "      <td>56</td>\n",
       "      <td>2</td>\n",
       "      <td>40</td>\n",
       "      <td>48</td>\n",
       "      <td>9</td>\n",
       "      <td>0</td>\n",
       "      <td>0446</td>\n",
       "      <td>...</td>\n",
       "      <td>-</td>\n",
       "      <td>M</td>\n",
       "      <td>M</td>\n",
       "      <td>M</td>\n",
       "      <td>0.00</td>\n",
       "      <td>29.46</td>\n",
       "      <td>30.12</td>\n",
       "      <td>12.9</td>\n",
       "      <td>6</td>\n",
       "      <td>13.2</td>\n",
       "    </tr>\n",
       "    <tr>\n",
       "      <th>3</th>\n",
       "      <td>2007-05-04</td>\n",
       "      <td>66</td>\n",
       "      <td>49</td>\n",
       "      <td>58</td>\n",
       "      <td>4</td>\n",
       "      <td>41</td>\n",
       "      <td>50</td>\n",
       "      <td>7</td>\n",
       "      <td>0</td>\n",
       "      <td>0444</td>\n",
       "      <td>...</td>\n",
       "      <td>-</td>\n",
       "      <td>M</td>\n",
       "      <td>M</td>\n",
       "      <td>M</td>\n",
       "      <td>0.00</td>\n",
       "      <td>29.36</td>\n",
       "      <td>30.04</td>\n",
       "      <td>10.1</td>\n",
       "      <td>7</td>\n",
       "      <td>10.4</td>\n",
       "    </tr>\n",
       "    <tr>\n",
       "      <th>4</th>\n",
       "      <td>2007-05-05</td>\n",
       "      <td>66</td>\n",
       "      <td>53</td>\n",
       "      <td>60</td>\n",
       "      <td>5</td>\n",
       "      <td>38</td>\n",
       "      <td>49</td>\n",
       "      <td>5</td>\n",
       "      <td>0</td>\n",
       "      <td>0443</td>\n",
       "      <td>...</td>\n",
       "      <td>-</td>\n",
       "      <td>M</td>\n",
       "      <td>M</td>\n",
       "      <td>M</td>\n",
       "      <td>T</td>\n",
       "      <td>29.46</td>\n",
       "      <td>30.09</td>\n",
       "      <td>11.2</td>\n",
       "      <td>7</td>\n",
       "      <td>11.5</td>\n",
       "    </tr>\n",
       "  </tbody>\n",
       "</table>\n",
       "<p>5 rows × 39 columns</p>\n",
       "</div>"
      ],
      "text/plain": [
       "         Date  Tmax1  Tmin1 Tavg1 Depart1  DewPoint1 WetBulb1 Heat1 Cool1  \\\n",
       "0  2007-05-01     83     50    67      14         51       56     0     2   \n",
       "1  2007-05-02     59     42    51      -3         42       47    14     0   \n",
       "2  2007-05-03     66     46    56       2         40       48     9     0   \n",
       "3  2007-05-04     66     49    58       4         41       50     7     0   \n",
       "4  2007-05-05     66     53    60       5         38       49     5     0   \n",
       "\n",
       "  Sunrise1    ...    Sunset2 Depth2 Water12 SnowFall2 PrecipTotal2  \\\n",
       "0     0448    ...          -      M       M         M         0.00   \n",
       "1     0447    ...          -      M       M         M         0.00   \n",
       "2     0446    ...          -      M       M         M         0.00   \n",
       "3     0444    ...          -      M       M         M         0.00   \n",
       "4     0443    ...          -      M       M         M            T   \n",
       "\n",
       "  StnPressure2 SeaLevel2  ResultSpeed2  ResultDir2 AvgSpeed2  \n",
       "0        29.18     29.82           2.7          25       9.6  \n",
       "1        29.44     30.08          13.3           2      13.4  \n",
       "2        29.46     30.12          12.9           6      13.2  \n",
       "3        29.36     30.04          10.1           7      10.4  \n",
       "4        29.46     30.09          11.2           7      11.5  \n",
       "\n",
       "[5 rows x 39 columns]"
      ]
     },
     "execution_count": 221,
     "metadata": {},
     "output_type": "execute_result"
    }
   ],
   "source": [
    "weather.head()"
   ]
  },
  {
   "cell_type": "code",
   "execution_count": 222,
   "metadata": {
    "collapsed": true
   },
   "outputs": [],
   "source": [
    "weather.Date = pd.to_datetime(weather.Date)"
   ]
  },
  {
   "cell_type": "code",
   "execution_count": 223,
   "metadata": {
    "collapsed": true
   },
   "outputs": [],
   "source": [
    "df = pd.merge(df, weather, on='Date', how='left')"
   ]
  },
  {
   "cell_type": "code",
   "execution_count": 224,
   "metadata": {
    "collapsed": false
   },
   "outputs": [
    {
     "data": {
      "text/html": [
       "<div>\n",
       "<table border=\"1\" class=\"dataframe\">\n",
       "  <thead>\n",
       "    <tr style=\"text-align: right;\">\n",
       "      <th></th>\n",
       "      <th>Date</th>\n",
       "      <th>Species</th>\n",
       "      <th>Trap</th>\n",
       "      <th>Latitude</th>\n",
       "      <th>Longitude</th>\n",
       "      <th>NumMosquitos</th>\n",
       "      <th>WnvPresent</th>\n",
       "      <th>Tmax1</th>\n",
       "      <th>Tmin1</th>\n",
       "      <th>Tavg1</th>\n",
       "      <th>...</th>\n",
       "      <th>Sunset2</th>\n",
       "      <th>Depth2</th>\n",
       "      <th>Water12</th>\n",
       "      <th>SnowFall2</th>\n",
       "      <th>PrecipTotal2</th>\n",
       "      <th>StnPressure2</th>\n",
       "      <th>SeaLevel2</th>\n",
       "      <th>ResultSpeed2</th>\n",
       "      <th>ResultDir2</th>\n",
       "      <th>AvgSpeed2</th>\n",
       "    </tr>\n",
       "  </thead>\n",
       "  <tbody>\n",
       "    <tr>\n",
       "      <th>0</th>\n",
       "      <td>2007-05-29</td>\n",
       "      <td>CULEX PIPIENS</td>\n",
       "      <td>T096</td>\n",
       "      <td>41.731922</td>\n",
       "      <td>-87.677512</td>\n",
       "      <td>1</td>\n",
       "      <td>0</td>\n",
       "      <td>88</td>\n",
       "      <td>60</td>\n",
       "      <td>74</td>\n",
       "      <td>...</td>\n",
       "      <td>-</td>\n",
       "      <td>M</td>\n",
       "      <td>M</td>\n",
       "      <td>M</td>\n",
       "      <td>0.00</td>\n",
       "      <td>29.44</td>\n",
       "      <td>30.09</td>\n",
       "      <td>5.8</td>\n",
       "      <td>16</td>\n",
       "      <td>7.4</td>\n",
       "    </tr>\n",
       "    <tr>\n",
       "      <th>1</th>\n",
       "      <td>2007-05-29</td>\n",
       "      <td>CULEX PIPIENS/RESTUANS</td>\n",
       "      <td>T002</td>\n",
       "      <td>41.954690</td>\n",
       "      <td>-87.800991</td>\n",
       "      <td>1</td>\n",
       "      <td>0</td>\n",
       "      <td>88</td>\n",
       "      <td>60</td>\n",
       "      <td>74</td>\n",
       "      <td>...</td>\n",
       "      <td>-</td>\n",
       "      <td>M</td>\n",
       "      <td>M</td>\n",
       "      <td>M</td>\n",
       "      <td>0.00</td>\n",
       "      <td>29.44</td>\n",
       "      <td>30.09</td>\n",
       "      <td>5.8</td>\n",
       "      <td>16</td>\n",
       "      <td>7.4</td>\n",
       "    </tr>\n",
       "    <tr>\n",
       "      <th>2</th>\n",
       "      <td>2007-05-29</td>\n",
       "      <td>CULEX PIPIENS/RESTUANS</td>\n",
       "      <td>T015</td>\n",
       "      <td>41.974089</td>\n",
       "      <td>-87.824812</td>\n",
       "      <td>1</td>\n",
       "      <td>0</td>\n",
       "      <td>88</td>\n",
       "      <td>60</td>\n",
       "      <td>74</td>\n",
       "      <td>...</td>\n",
       "      <td>-</td>\n",
       "      <td>M</td>\n",
       "      <td>M</td>\n",
       "      <td>M</td>\n",
       "      <td>0.00</td>\n",
       "      <td>29.44</td>\n",
       "      <td>30.09</td>\n",
       "      <td>5.8</td>\n",
       "      <td>16</td>\n",
       "      <td>7.4</td>\n",
       "    </tr>\n",
       "    <tr>\n",
       "      <th>3</th>\n",
       "      <td>2007-05-29</td>\n",
       "      <td>CULEX PIPIENS/RESTUANS</td>\n",
       "      <td>T048</td>\n",
       "      <td>41.867108</td>\n",
       "      <td>-87.654224</td>\n",
       "      <td>1</td>\n",
       "      <td>0</td>\n",
       "      <td>88</td>\n",
       "      <td>60</td>\n",
       "      <td>74</td>\n",
       "      <td>...</td>\n",
       "      <td>-</td>\n",
       "      <td>M</td>\n",
       "      <td>M</td>\n",
       "      <td>M</td>\n",
       "      <td>0.00</td>\n",
       "      <td>29.44</td>\n",
       "      <td>30.09</td>\n",
       "      <td>5.8</td>\n",
       "      <td>16</td>\n",
       "      <td>7.4</td>\n",
       "    </tr>\n",
       "    <tr>\n",
       "      <th>4</th>\n",
       "      <td>2007-05-29</td>\n",
       "      <td>CULEX PIPIENS/RESTUANS</td>\n",
       "      <td>T050</td>\n",
       "      <td>41.919343</td>\n",
       "      <td>-87.694259</td>\n",
       "      <td>1</td>\n",
       "      <td>0</td>\n",
       "      <td>88</td>\n",
       "      <td>60</td>\n",
       "      <td>74</td>\n",
       "      <td>...</td>\n",
       "      <td>-</td>\n",
       "      <td>M</td>\n",
       "      <td>M</td>\n",
       "      <td>M</td>\n",
       "      <td>0.00</td>\n",
       "      <td>29.44</td>\n",
       "      <td>30.09</td>\n",
       "      <td>5.8</td>\n",
       "      <td>16</td>\n",
       "      <td>7.4</td>\n",
       "    </tr>\n",
       "  </tbody>\n",
       "</table>\n",
       "<p>5 rows × 45 columns</p>\n",
       "</div>"
      ],
      "text/plain": [
       "        Date                 Species  Trap   Latitude  Longitude  \\\n",
       "0 2007-05-29           CULEX PIPIENS  T096  41.731922 -87.677512   \n",
       "1 2007-05-29  CULEX PIPIENS/RESTUANS  T002  41.954690 -87.800991   \n",
       "2 2007-05-29  CULEX PIPIENS/RESTUANS  T015  41.974089 -87.824812   \n",
       "3 2007-05-29  CULEX PIPIENS/RESTUANS  T048  41.867108 -87.654224   \n",
       "4 2007-05-29  CULEX PIPIENS/RESTUANS  T050  41.919343 -87.694259   \n",
       "\n",
       "   NumMosquitos  WnvPresent  Tmax1  Tmin1 Tavg1    ...    Sunset2  Depth2  \\\n",
       "0             1           0     88     60    74    ...          -       M   \n",
       "1             1           0     88     60    74    ...          -       M   \n",
       "2             1           0     88     60    74    ...          -       M   \n",
       "3             1           0     88     60    74    ...          -       M   \n",
       "4             1           0     88     60    74    ...          -       M   \n",
       "\n",
       "  Water12 SnowFall2 PrecipTotal2 StnPressure2 SeaLevel2 ResultSpeed2  \\\n",
       "0       M         M         0.00        29.44     30.09          5.8   \n",
       "1       M         M         0.00        29.44     30.09          5.8   \n",
       "2       M         M         0.00        29.44     30.09          5.8   \n",
       "3       M         M         0.00        29.44     30.09          5.8   \n",
       "4       M         M         0.00        29.44     30.09          5.8   \n",
       "\n",
       "  ResultDir2 AvgSpeed2  \n",
       "0         16       7.4  \n",
       "1         16       7.4  \n",
       "2         16       7.4  \n",
       "3         16       7.4  \n",
       "4         16       7.4  \n",
       "\n",
       "[5 rows x 45 columns]"
      ]
     },
     "execution_count": 224,
     "metadata": {},
     "output_type": "execute_result"
    }
   ],
   "source": [
    "df.head()"
   ]
  },
  {
   "cell_type": "code",
   "execution_count": 225,
   "metadata": {
    "collapsed": false
   },
   "outputs": [
    {
     "data": {
      "text/plain": [
       "Date            0\n",
       "Species         0\n",
       "Trap            0\n",
       "Latitude        0\n",
       "Longitude       0\n",
       "NumMosquitos    0\n",
       "WnvPresent      0\n",
       "Tmax1           0\n",
       "Tmin1           0\n",
       "Tavg1           0\n",
       "Depart1         0\n",
       "DewPoint1       0\n",
       "WetBulb1        0\n",
       "Heat1           0\n",
       "Cool1           0\n",
       "Sunrise1        0\n",
       "Sunset1         0\n",
       "Depth1          0\n",
       "Water11         0\n",
       "SnowFall1       0\n",
       "PrecipTotal1    0\n",
       "StnPressure1    0\n",
       "SeaLevel1       0\n",
       "ResultSpeed1    0\n",
       "ResultDir1      0\n",
       "AvgSpeed1       0\n",
       "Tmax2           0\n",
       "Tmin2           0\n",
       "Tavg2           0\n",
       "Depart2         0\n",
       "DewPoint2       0\n",
       "WetBulb2        0\n",
       "Heat2           0\n",
       "Cool2           0\n",
       "Sunrise2        0\n",
       "Sunset2         0\n",
       "Depth2          0\n",
       "Water12         0\n",
       "SnowFall2       0\n",
       "PrecipTotal2    0\n",
       "StnPressure2    0\n",
       "SeaLevel2       0\n",
       "ResultSpeed2    0\n",
       "ResultDir2      0\n",
       "AvgSpeed2       0\n",
       "dtype: int64"
      ]
     },
     "execution_count": 225,
     "metadata": {},
     "output_type": "execute_result"
    }
   ],
   "source": [
    "df.isnull().sum()"
   ]
  },
  {
   "cell_type": "code",
   "execution_count": 226,
   "metadata": {
    "collapsed": false
   },
   "outputs": [
    {
     "data": {
      "text/plain": [
       "(8475, 45)"
      ]
     },
     "execution_count": 226,
     "metadata": {},
     "output_type": "execute_result"
    }
   ],
   "source": [
    "df.shape"
   ]
  },
  {
   "cell_type": "code",
   "execution_count": 227,
   "metadata": {
    "collapsed": false
   },
   "outputs": [],
   "source": [
    "df['Year'] = df.Date.dt.year\n",
    "df['Month'] = df.Date.dt.month\n",
    "df['Week'] = df.Date.dt.week\n",
    "df['Day'] = df.Date.dt.day"
   ]
  },
  {
   "cell_type": "code",
   "execution_count": 228,
   "metadata": {
    "collapsed": false
   },
   "outputs": [],
   "source": [
    "spray = pd.read_csv(\"spray.csv\")"
   ]
  },
  {
   "cell_type": "code",
   "execution_count": 229,
   "metadata": {
    "collapsed": false
   },
   "outputs": [
    {
     "data": {
      "text/html": [
       "<div>\n",
       "<table border=\"1\" class=\"dataframe\">\n",
       "  <thead>\n",
       "    <tr style=\"text-align: right;\">\n",
       "      <th></th>\n",
       "      <th>Date</th>\n",
       "      <th>Time</th>\n",
       "      <th>Latitude</th>\n",
       "      <th>Longitude</th>\n",
       "    </tr>\n",
       "  </thead>\n",
       "  <tbody>\n",
       "    <tr>\n",
       "      <th>0</th>\n",
       "      <td>2011-08-29</td>\n",
       "      <td>6:56:58 PM</td>\n",
       "      <td>42.391623</td>\n",
       "      <td>-88.089163</td>\n",
       "    </tr>\n",
       "    <tr>\n",
       "      <th>1</th>\n",
       "      <td>2011-08-29</td>\n",
       "      <td>6:57:08 PM</td>\n",
       "      <td>42.391348</td>\n",
       "      <td>-88.089163</td>\n",
       "    </tr>\n",
       "    <tr>\n",
       "      <th>2</th>\n",
       "      <td>2011-08-29</td>\n",
       "      <td>6:57:18 PM</td>\n",
       "      <td>42.391022</td>\n",
       "      <td>-88.089157</td>\n",
       "    </tr>\n",
       "    <tr>\n",
       "      <th>3</th>\n",
       "      <td>2011-08-29</td>\n",
       "      <td>6:57:28 PM</td>\n",
       "      <td>42.390637</td>\n",
       "      <td>-88.089158</td>\n",
       "    </tr>\n",
       "    <tr>\n",
       "      <th>4</th>\n",
       "      <td>2011-08-29</td>\n",
       "      <td>6:57:38 PM</td>\n",
       "      <td>42.390410</td>\n",
       "      <td>-88.088858</td>\n",
       "    </tr>\n",
       "  </tbody>\n",
       "</table>\n",
       "</div>"
      ],
      "text/plain": [
       "         Date        Time   Latitude  Longitude\n",
       "0  2011-08-29  6:56:58 PM  42.391623 -88.089163\n",
       "1  2011-08-29  6:57:08 PM  42.391348 -88.089163\n",
       "2  2011-08-29  6:57:18 PM  42.391022 -88.089157\n",
       "3  2011-08-29  6:57:28 PM  42.390637 -88.089158\n",
       "4  2011-08-29  6:57:38 PM  42.390410 -88.088858"
      ]
     },
     "execution_count": 229,
     "metadata": {},
     "output_type": "execute_result"
    }
   ],
   "source": [
    "spray.head()"
   ]
  },
  {
   "cell_type": "code",
   "execution_count": 230,
   "metadata": {
    "collapsed": false
   },
   "outputs": [
    {
     "name": "stdout",
     "output_type": "stream",
     "text": [
      "10\n",
      "['2011-08-29' '2011-09-07' '2013-07-17' '2013-07-25' '2013-08-08'\n",
      " '2013-08-15' '2013-08-16' '2013-08-22' '2013-08-29' '2013-09-05']\n"
     ]
    }
   ],
   "source": [
    "print spray.Date.nunique()\n",
    "print spray.Date.unique()"
   ]
  },
  {
   "cell_type": "code",
   "execution_count": 231,
   "metadata": {
    "collapsed": false
   },
   "outputs": [
    {
     "name": "stdout",
     "output_type": "stream",
     "text": [
      "95\n",
      "['2007-05-29T00:00:00.000000000' '2007-06-05T00:00:00.000000000'\n",
      " '2007-06-26T00:00:00.000000000' '2007-06-29T00:00:00.000000000'\n",
      " '2007-07-02T00:00:00.000000000' '2007-07-11T00:00:00.000000000'\n",
      " '2007-07-18T00:00:00.000000000' '2007-07-19T00:00:00.000000000'\n",
      " '2007-07-25T00:00:00.000000000' '2007-07-27T00:00:00.000000000'\n",
      " '2007-08-01T00:00:00.000000000' '2007-08-02T00:00:00.000000000'\n",
      " '2007-08-03T00:00:00.000000000' '2007-08-07T00:00:00.000000000'\n",
      " '2007-08-08T00:00:00.000000000' '2007-08-09T00:00:00.000000000'\n",
      " '2007-08-15T00:00:00.000000000' '2007-08-16T00:00:00.000000000'\n",
      " '2007-08-17T00:00:00.000000000' '2007-08-21T00:00:00.000000000'\n",
      " '2007-08-22T00:00:00.000000000' '2007-08-24T00:00:00.000000000'\n",
      " '2007-08-28T00:00:00.000000000' '2007-09-04T00:00:00.000000000'\n",
      " '2007-09-05T00:00:00.000000000' '2007-09-06T00:00:00.000000000'\n",
      " '2007-09-12T00:00:00.000000000' '2007-09-18T00:00:00.000000000'\n",
      " '2007-09-19T00:00:00.000000000' '2007-09-24T00:00:00.000000000'\n",
      " '2007-09-25T00:00:00.000000000' '2007-10-04T00:00:00.000000000'\n",
      " '2007-10-09T00:00:00.000000000' '2009-05-28T00:00:00.000000000'\n",
      " '2009-06-02T00:00:00.000000000' '2009-06-03T00:00:00.000000000'\n",
      " '2009-06-05T00:00:00.000000000' '2009-06-12T00:00:00.000000000'\n",
      " '2009-06-15T00:00:00.000000000' '2009-06-19T00:00:00.000000000'\n",
      " '2009-06-22T00:00:00.000000000' '2009-06-26T00:00:00.000000000'\n",
      " '2009-06-29T00:00:00.000000000' '2009-07-06T00:00:00.000000000'\n",
      " '2009-07-10T00:00:00.000000000' '2009-07-13T00:00:00.000000000'\n",
      " '2009-07-17T00:00:00.000000000' '2009-07-24T00:00:00.000000000'\n",
      " '2009-07-27T00:00:00.000000000' '2009-07-31T00:00:00.000000000'\n",
      " '2009-08-07T00:00:00.000000000' '2009-08-13T00:00:00.000000000'\n",
      " '2009-08-25T00:00:00.000000000' '2009-08-27T00:00:00.000000000'\n",
      " '2009-09-03T00:00:00.000000000' '2009-09-14T00:00:00.000000000'\n",
      " '2009-09-17T00:00:00.000000000' '2009-09-25T00:00:00.000000000'\n",
      " '2009-10-01T00:00:00.000000000' '2011-06-10T00:00:00.000000000'\n",
      " '2011-06-17T00:00:00.000000000' '2011-06-24T00:00:00.000000000'\n",
      " '2011-06-30T00:00:00.000000000' '2011-07-11T00:00:00.000000000'\n",
      " '2011-07-15T00:00:00.000000000' '2011-07-25T00:00:00.000000000'\n",
      " '2011-07-29T00:00:00.000000000' '2011-08-05T00:00:00.000000000'\n",
      " '2011-08-12T00:00:00.000000000' '2011-08-19T00:00:00.000000000'\n",
      " '2011-08-26T00:00:00.000000000' '2011-09-01T00:00:00.000000000'\n",
      " '2011-09-02T00:00:00.000000000' '2011-09-12T00:00:00.000000000'\n",
      " '2011-09-16T00:00:00.000000000' '2011-09-23T00:00:00.000000000'\n",
      " '2011-09-30T00:00:00.000000000' '2013-06-07T00:00:00.000000000'\n",
      " '2013-06-14T00:00:00.000000000' '2013-06-21T00:00:00.000000000'\n",
      " '2013-06-27T00:00:00.000000000' '2013-06-28T00:00:00.000000000'\n",
      " '2013-07-08T00:00:00.000000000' '2013-07-12T00:00:00.000000000'\n",
      " '2013-07-19T00:00:00.000000000' '2013-07-25T00:00:00.000000000'\n",
      " '2013-08-01T00:00:00.000000000' '2013-08-08T00:00:00.000000000'\n",
      " '2013-08-15T00:00:00.000000000' '2013-08-22T00:00:00.000000000'\n",
      " '2013-08-29T00:00:00.000000000' '2013-09-06T00:00:00.000000000'\n",
      " '2013-09-12T00:00:00.000000000' '2013-09-19T00:00:00.000000000'\n",
      " '2013-09-26T00:00:00.000000000']\n"
     ]
    }
   ],
   "source": [
    "print df.Date.nunique()\n",
    "print df.Date.unique()"
   ]
  },
  {
   "cell_type": "code",
   "execution_count": 232,
   "metadata": {
    "collapsed": false
   },
   "outputs": [],
   "source": [
    "df['merge_latitude'] = df.Latitude.apply(lambda x: round(x, 2))"
   ]
  },
  {
   "cell_type": "code",
   "execution_count": 233,
   "metadata": {
    "collapsed": true
   },
   "outputs": [],
   "source": [
    "df['merge_longitude'] = df.Longitude.apply(lambda x: round(x, 2))"
   ]
  },
  {
   "cell_type": "code",
   "execution_count": 234,
   "metadata": {
    "collapsed": false
   },
   "outputs": [],
   "source": [
    "spray['merge_latitude'] = spray.Latitude.apply(lambda x: round(x, 2))\n",
    "spray['merge_longitude'] = spray.Longitude.apply(lambda x: round(x, 2))"
   ]
  },
  {
   "cell_type": "code",
   "execution_count": 235,
   "metadata": {
    "collapsed": true
   },
   "outputs": [],
   "source": [
    "spray.Date = pd.to_datetime(spray.Date)"
   ]
  },
  {
   "cell_type": "code",
   "execution_count": 236,
   "metadata": {
    "collapsed": false
   },
   "outputs": [],
   "source": [
    "spray['Year'] = spray.Date.dt.year\n",
    "spray['Week'] = spray.Date.dt.week"
   ]
  },
  {
   "cell_type": "code",
   "execution_count": 237,
   "metadata": {
    "collapsed": false
   },
   "outputs": [],
   "source": [
    "spray['Spray1'] = 1"
   ]
  },
  {
   "cell_type": "code",
   "execution_count": 238,
   "metadata": {
    "collapsed": false
   },
   "outputs": [],
   "source": [
    "spray.drop('Time', axis=1, inplace=True)"
   ]
  },
  {
   "cell_type": "code",
   "execution_count": 239,
   "metadata": {
    "collapsed": false
   },
   "outputs": [],
   "source": [
    "spray = spray.iloc[:, 3:]"
   ]
  },
  {
   "cell_type": "code",
   "execution_count": 240,
   "metadata": {
    "collapsed": false
   },
   "outputs": [
    {
     "data": {
      "text/html": [
       "<div>\n",
       "<table border=\"1\" class=\"dataframe\">\n",
       "  <thead>\n",
       "    <tr style=\"text-align: right;\">\n",
       "      <th></th>\n",
       "      <th>merge_latitude</th>\n",
       "      <th>merge_longitude</th>\n",
       "      <th>Year</th>\n",
       "      <th>Week</th>\n",
       "      <th>Spray1</th>\n",
       "    </tr>\n",
       "  </thead>\n",
       "  <tbody>\n",
       "    <tr>\n",
       "      <th>0</th>\n",
       "      <td>42.39</td>\n",
       "      <td>-88.09</td>\n",
       "      <td>2011</td>\n",
       "      <td>35</td>\n",
       "      <td>1</td>\n",
       "    </tr>\n",
       "    <tr>\n",
       "      <th>1</th>\n",
       "      <td>42.39</td>\n",
       "      <td>-88.09</td>\n",
       "      <td>2011</td>\n",
       "      <td>35</td>\n",
       "      <td>1</td>\n",
       "    </tr>\n",
       "    <tr>\n",
       "      <th>2</th>\n",
       "      <td>42.39</td>\n",
       "      <td>-88.09</td>\n",
       "      <td>2011</td>\n",
       "      <td>35</td>\n",
       "      <td>1</td>\n",
       "    </tr>\n",
       "    <tr>\n",
       "      <th>3</th>\n",
       "      <td>42.39</td>\n",
       "      <td>-88.09</td>\n",
       "      <td>2011</td>\n",
       "      <td>35</td>\n",
       "      <td>1</td>\n",
       "    </tr>\n",
       "    <tr>\n",
       "      <th>4</th>\n",
       "      <td>42.39</td>\n",
       "      <td>-88.09</td>\n",
       "      <td>2011</td>\n",
       "      <td>35</td>\n",
       "      <td>1</td>\n",
       "    </tr>\n",
       "  </tbody>\n",
       "</table>\n",
       "</div>"
      ],
      "text/plain": [
       "   merge_latitude  merge_longitude  Year  Week  Spray1\n",
       "0           42.39           -88.09  2011    35       1\n",
       "1           42.39           -88.09  2011    35       1\n",
       "2           42.39           -88.09  2011    35       1\n",
       "3           42.39           -88.09  2011    35       1\n",
       "4           42.39           -88.09  2011    35       1"
      ]
     },
     "execution_count": 240,
     "metadata": {},
     "output_type": "execute_result"
    }
   ],
   "source": [
    "spray.head()"
   ]
  },
  {
   "cell_type": "code",
   "execution_count": 241,
   "metadata": {
    "collapsed": false
   },
   "outputs": [
    {
     "data": {
      "text/html": [
       "<div>\n",
       "<table border=\"1\" class=\"dataframe\">\n",
       "  <thead>\n",
       "    <tr style=\"text-align: right;\">\n",
       "      <th></th>\n",
       "      <th>merge_latitude</th>\n",
       "      <th>merge_longitude</th>\n",
       "      <th>Year</th>\n",
       "      <th>Week</th>\n",
       "      <th>Spray1</th>\n",
       "      <th>Week2</th>\n",
       "      <th>Week3</th>\n",
       "      <th>Spray2</th>\n",
       "      <th>Spray3</th>\n",
       "    </tr>\n",
       "  </thead>\n",
       "  <tbody>\n",
       "    <tr>\n",
       "      <th>0</th>\n",
       "      <td>42.39</td>\n",
       "      <td>-88.09</td>\n",
       "      <td>2011</td>\n",
       "      <td>35</td>\n",
       "      <td>1</td>\n",
       "      <td>36</td>\n",
       "      <td>37</td>\n",
       "      <td>1</td>\n",
       "      <td>1</td>\n",
       "    </tr>\n",
       "    <tr>\n",
       "      <th>1</th>\n",
       "      <td>42.39</td>\n",
       "      <td>-88.09</td>\n",
       "      <td>2011</td>\n",
       "      <td>35</td>\n",
       "      <td>1</td>\n",
       "      <td>36</td>\n",
       "      <td>37</td>\n",
       "      <td>1</td>\n",
       "      <td>1</td>\n",
       "    </tr>\n",
       "    <tr>\n",
       "      <th>2</th>\n",
       "      <td>42.39</td>\n",
       "      <td>-88.09</td>\n",
       "      <td>2011</td>\n",
       "      <td>35</td>\n",
       "      <td>1</td>\n",
       "      <td>36</td>\n",
       "      <td>37</td>\n",
       "      <td>1</td>\n",
       "      <td>1</td>\n",
       "    </tr>\n",
       "    <tr>\n",
       "      <th>3</th>\n",
       "      <td>42.39</td>\n",
       "      <td>-88.09</td>\n",
       "      <td>2011</td>\n",
       "      <td>35</td>\n",
       "      <td>1</td>\n",
       "      <td>36</td>\n",
       "      <td>37</td>\n",
       "      <td>1</td>\n",
       "      <td>1</td>\n",
       "    </tr>\n",
       "    <tr>\n",
       "      <th>4</th>\n",
       "      <td>42.39</td>\n",
       "      <td>-88.09</td>\n",
       "      <td>2011</td>\n",
       "      <td>35</td>\n",
       "      <td>1</td>\n",
       "      <td>36</td>\n",
       "      <td>37</td>\n",
       "      <td>1</td>\n",
       "      <td>1</td>\n",
       "    </tr>\n",
       "  </tbody>\n",
       "</table>\n",
       "</div>"
      ],
      "text/plain": [
       "   merge_latitude  merge_longitude  Year  Week  Spray1  Week2  Week3  Spray2  \\\n",
       "0           42.39           -88.09  2011    35       1     36     37       1   \n",
       "1           42.39           -88.09  2011    35       1     36     37       1   \n",
       "2           42.39           -88.09  2011    35       1     36     37       1   \n",
       "3           42.39           -88.09  2011    35       1     36     37       1   \n",
       "4           42.39           -88.09  2011    35       1     36     37       1   \n",
       "\n",
       "   Spray3  \n",
       "0       1  \n",
       "1       1  \n",
       "2       1  \n",
       "3       1  \n",
       "4       1  "
      ]
     },
     "execution_count": 241,
     "metadata": {},
     "output_type": "execute_result"
    }
   ],
   "source": [
    "spray['Week2'] = spray.Week + 1\n",
    "spray['Week3'] = spray.Week + 2\n",
    "spray['Spray2'] = 1\n",
    "spray['Spray3'] = 1\n",
    "spray.head()"
   ]
  },
  {
   "cell_type": "code",
   "execution_count": 242,
   "metadata": {
    "collapsed": true
   },
   "outputs": [],
   "source": [
    "spray.drop_duplicates(keep='first', inplace=True)"
   ]
  },
  {
   "cell_type": "code",
   "execution_count": 243,
   "metadata": {
    "collapsed": true
   },
   "outputs": [],
   "source": [
    "spray_week1 = spray[['merge_latitude', 'merge_longitude', 'Year', 'Week', 'Spray1']]"
   ]
  },
  {
   "cell_type": "code",
   "execution_count": 244,
   "metadata": {
    "collapsed": false
   },
   "outputs": [],
   "source": [
    "spray_week2 = spray[['merge_latitude', 'merge_longitude', 'Year', 'Week2', 'Spray2']]\n",
    "spray_week2.rename(columns={'Week2':'Week'}, inplace=True)"
   ]
  },
  {
   "cell_type": "code",
   "execution_count": 245,
   "metadata": {
    "collapsed": true
   },
   "outputs": [],
   "source": [
    "spray_week3 = spray[['merge_latitude', 'merge_longitude', 'Year', 'Week3', 'Spray3']]\n",
    "spray_week3.rename(columns={'Week3':'Week'}, inplace=True)"
   ]
  },
  {
   "cell_type": "code",
   "execution_count": 246,
   "metadata": {
    "collapsed": false
   },
   "outputs": [],
   "source": [
    "df = pd.merge(df, spray_week1, how = 'left', on=['Year', 'Week', 'merge_latitude', 'merge_longitude'])"
   ]
  },
  {
   "cell_type": "code",
   "execution_count": 247,
   "metadata": {
    "collapsed": true
   },
   "outputs": [],
   "source": [
    "df = pd.merge(df, spray_week2, how = 'left', on=['Year', 'Week', 'merge_latitude', 'merge_longitude'])"
   ]
  },
  {
   "cell_type": "code",
   "execution_count": 248,
   "metadata": {
    "collapsed": true
   },
   "outputs": [],
   "source": [
    "df = pd.merge(df, spray_week3, how = 'left', on=['Year', 'Week', 'merge_latitude', 'merge_longitude'])"
   ]
  },
  {
   "cell_type": "code",
   "execution_count": 249,
   "metadata": {
    "collapsed": false
   },
   "outputs": [
    {
     "data": {
      "text/html": [
       "<div>\n",
       "<table border=\"1\" class=\"dataframe\">\n",
       "  <thead>\n",
       "    <tr style=\"text-align: right;\">\n",
       "      <th></th>\n",
       "      <th>Date</th>\n",
       "      <th>Species</th>\n",
       "      <th>Trap</th>\n",
       "      <th>Latitude</th>\n",
       "      <th>Longitude</th>\n",
       "      <th>NumMosquitos</th>\n",
       "      <th>WnvPresent</th>\n",
       "      <th>Tmax1</th>\n",
       "      <th>Tmin1</th>\n",
       "      <th>Tavg1</th>\n",
       "      <th>...</th>\n",
       "      <th>AvgSpeed2</th>\n",
       "      <th>Year</th>\n",
       "      <th>Month</th>\n",
       "      <th>Week</th>\n",
       "      <th>Day</th>\n",
       "      <th>merge_latitude</th>\n",
       "      <th>merge_longitude</th>\n",
       "      <th>Spray1</th>\n",
       "      <th>Spray2</th>\n",
       "      <th>Spray3</th>\n",
       "    </tr>\n",
       "  </thead>\n",
       "  <tbody>\n",
       "    <tr>\n",
       "      <th>0</th>\n",
       "      <td>2007-05-29</td>\n",
       "      <td>CULEX PIPIENS</td>\n",
       "      <td>T096</td>\n",
       "      <td>41.731922</td>\n",
       "      <td>-87.677512</td>\n",
       "      <td>1</td>\n",
       "      <td>0</td>\n",
       "      <td>88</td>\n",
       "      <td>60</td>\n",
       "      <td>74</td>\n",
       "      <td>...</td>\n",
       "      <td>7.4</td>\n",
       "      <td>2007</td>\n",
       "      <td>5</td>\n",
       "      <td>22</td>\n",
       "      <td>29</td>\n",
       "      <td>41.73</td>\n",
       "      <td>-87.68</td>\n",
       "      <td>NaN</td>\n",
       "      <td>NaN</td>\n",
       "      <td>NaN</td>\n",
       "    </tr>\n",
       "    <tr>\n",
       "      <th>1</th>\n",
       "      <td>2007-05-29</td>\n",
       "      <td>CULEX PIPIENS/RESTUANS</td>\n",
       "      <td>T002</td>\n",
       "      <td>41.954690</td>\n",
       "      <td>-87.800991</td>\n",
       "      <td>1</td>\n",
       "      <td>0</td>\n",
       "      <td>88</td>\n",
       "      <td>60</td>\n",
       "      <td>74</td>\n",
       "      <td>...</td>\n",
       "      <td>7.4</td>\n",
       "      <td>2007</td>\n",
       "      <td>5</td>\n",
       "      <td>22</td>\n",
       "      <td>29</td>\n",
       "      <td>41.95</td>\n",
       "      <td>-87.80</td>\n",
       "      <td>NaN</td>\n",
       "      <td>NaN</td>\n",
       "      <td>NaN</td>\n",
       "    </tr>\n",
       "    <tr>\n",
       "      <th>2</th>\n",
       "      <td>2007-05-29</td>\n",
       "      <td>CULEX PIPIENS/RESTUANS</td>\n",
       "      <td>T015</td>\n",
       "      <td>41.974089</td>\n",
       "      <td>-87.824812</td>\n",
       "      <td>1</td>\n",
       "      <td>0</td>\n",
       "      <td>88</td>\n",
       "      <td>60</td>\n",
       "      <td>74</td>\n",
       "      <td>...</td>\n",
       "      <td>7.4</td>\n",
       "      <td>2007</td>\n",
       "      <td>5</td>\n",
       "      <td>22</td>\n",
       "      <td>29</td>\n",
       "      <td>41.97</td>\n",
       "      <td>-87.82</td>\n",
       "      <td>NaN</td>\n",
       "      <td>NaN</td>\n",
       "      <td>NaN</td>\n",
       "    </tr>\n",
       "    <tr>\n",
       "      <th>3</th>\n",
       "      <td>2007-05-29</td>\n",
       "      <td>CULEX PIPIENS/RESTUANS</td>\n",
       "      <td>T048</td>\n",
       "      <td>41.867108</td>\n",
       "      <td>-87.654224</td>\n",
       "      <td>1</td>\n",
       "      <td>0</td>\n",
       "      <td>88</td>\n",
       "      <td>60</td>\n",
       "      <td>74</td>\n",
       "      <td>...</td>\n",
       "      <td>7.4</td>\n",
       "      <td>2007</td>\n",
       "      <td>5</td>\n",
       "      <td>22</td>\n",
       "      <td>29</td>\n",
       "      <td>41.87</td>\n",
       "      <td>-87.65</td>\n",
       "      <td>NaN</td>\n",
       "      <td>NaN</td>\n",
       "      <td>NaN</td>\n",
       "    </tr>\n",
       "    <tr>\n",
       "      <th>4</th>\n",
       "      <td>2007-05-29</td>\n",
       "      <td>CULEX PIPIENS/RESTUANS</td>\n",
       "      <td>T050</td>\n",
       "      <td>41.919343</td>\n",
       "      <td>-87.694259</td>\n",
       "      <td>1</td>\n",
       "      <td>0</td>\n",
       "      <td>88</td>\n",
       "      <td>60</td>\n",
       "      <td>74</td>\n",
       "      <td>...</td>\n",
       "      <td>7.4</td>\n",
       "      <td>2007</td>\n",
       "      <td>5</td>\n",
       "      <td>22</td>\n",
       "      <td>29</td>\n",
       "      <td>41.92</td>\n",
       "      <td>-87.69</td>\n",
       "      <td>NaN</td>\n",
       "      <td>NaN</td>\n",
       "      <td>NaN</td>\n",
       "    </tr>\n",
       "  </tbody>\n",
       "</table>\n",
       "<p>5 rows × 54 columns</p>\n",
       "</div>"
      ],
      "text/plain": [
       "        Date                 Species  Trap   Latitude  Longitude  \\\n",
       "0 2007-05-29           CULEX PIPIENS  T096  41.731922 -87.677512   \n",
       "1 2007-05-29  CULEX PIPIENS/RESTUANS  T002  41.954690 -87.800991   \n",
       "2 2007-05-29  CULEX PIPIENS/RESTUANS  T015  41.974089 -87.824812   \n",
       "3 2007-05-29  CULEX PIPIENS/RESTUANS  T048  41.867108 -87.654224   \n",
       "4 2007-05-29  CULEX PIPIENS/RESTUANS  T050  41.919343 -87.694259   \n",
       "\n",
       "   NumMosquitos  WnvPresent  Tmax1  Tmin1 Tavg1  ...   AvgSpeed2  Year Month  \\\n",
       "0             1           0     88     60    74  ...         7.4  2007     5   \n",
       "1             1           0     88     60    74  ...         7.4  2007     5   \n",
       "2             1           0     88     60    74  ...         7.4  2007     5   \n",
       "3             1           0     88     60    74  ...         7.4  2007     5   \n",
       "4             1           0     88     60    74  ...         7.4  2007     5   \n",
       "\n",
       "  Week Day merge_latitude merge_longitude Spray1 Spray2 Spray3  \n",
       "0   22  29          41.73          -87.68    NaN    NaN    NaN  \n",
       "1   22  29          41.95          -87.80    NaN    NaN    NaN  \n",
       "2   22  29          41.97          -87.82    NaN    NaN    NaN  \n",
       "3   22  29          41.87          -87.65    NaN    NaN    NaN  \n",
       "4   22  29          41.92          -87.69    NaN    NaN    NaN  \n",
       "\n",
       "[5 rows x 54 columns]"
      ]
     },
     "execution_count": 249,
     "metadata": {},
     "output_type": "execute_result"
    }
   ],
   "source": [
    "df.head()"
   ]
  },
  {
   "cell_type": "code",
   "execution_count": 250,
   "metadata": {
    "collapsed": false
   },
   "outputs": [],
   "source": [
    "# Get rid of NaNs. Replace them with 0s.\n",
    "df.Spray1 = df.Spray1.apply(lambda x: 1 if x == 1 else 0)\n",
    "df.Spray2 = df.Spray2.apply(lambda x: 1 if x == 1 else 0)\n",
    "df.Spray3 = df.Spray3.apply(lambda x: 1 if x == 1 else 0)"
   ]
  },
  {
   "cell_type": "code",
   "execution_count": 251,
   "metadata": {
    "collapsed": true
   },
   "outputs": [],
   "source": [
    "df['Sprayed'] = df.Spray1 + df.Spray2 + df.Spray3"
   ]
  },
  {
   "cell_type": "code",
   "execution_count": 252,
   "metadata": {
    "collapsed": false
   },
   "outputs": [
    {
     "data": {
      "text/plain": [
       "(8475, 55)"
      ]
     },
     "execution_count": 252,
     "metadata": {},
     "output_type": "execute_result"
    }
   ],
   "source": [
    "df.shape"
   ]
  },
  {
   "cell_type": "code",
   "execution_count": 253,
   "metadata": {
    "collapsed": false
   },
   "outputs": [
    {
     "data": {
      "text/plain": [
       "116"
      ]
     },
     "execution_count": 253,
     "metadata": {},
     "output_type": "execute_result"
    }
   ],
   "source": [
    "df.Sprayed.sum()"
   ]
  },
  {
   "cell_type": "code",
   "execution_count": 254,
   "metadata": {
    "collapsed": false
   },
   "outputs": [
    {
     "data": {
      "text/html": [
       "<div>\n",
       "<table border=\"1\" class=\"dataframe\">\n",
       "  <thead>\n",
       "    <tr style=\"text-align: right;\">\n",
       "      <th></th>\n",
       "      <th>Date</th>\n",
       "      <th>Species</th>\n",
       "      <th>Trap</th>\n",
       "      <th>Latitude</th>\n",
       "      <th>Longitude</th>\n",
       "      <th>NumMosquitos</th>\n",
       "      <th>WnvPresent</th>\n",
       "      <th>Tmax1</th>\n",
       "      <th>Tmin1</th>\n",
       "      <th>Tavg1</th>\n",
       "      <th>...</th>\n",
       "      <th>StnPressure2</th>\n",
       "      <th>SeaLevel2</th>\n",
       "      <th>ResultSpeed2</th>\n",
       "      <th>ResultDir2</th>\n",
       "      <th>AvgSpeed2</th>\n",
       "      <th>Year</th>\n",
       "      <th>Month</th>\n",
       "      <th>Week</th>\n",
       "      <th>Day</th>\n",
       "      <th>Sprayed</th>\n",
       "    </tr>\n",
       "  </thead>\n",
       "  <tbody>\n",
       "    <tr>\n",
       "      <th>0</th>\n",
       "      <td>2007-05-29</td>\n",
       "      <td>CULEX PIPIENS</td>\n",
       "      <td>T096</td>\n",
       "      <td>41.731922</td>\n",
       "      <td>-87.677512</td>\n",
       "      <td>1</td>\n",
       "      <td>0</td>\n",
       "      <td>88</td>\n",
       "      <td>60</td>\n",
       "      <td>74</td>\n",
       "      <td>...</td>\n",
       "      <td>29.44</td>\n",
       "      <td>30.09</td>\n",
       "      <td>5.8</td>\n",
       "      <td>16</td>\n",
       "      <td>7.4</td>\n",
       "      <td>2007</td>\n",
       "      <td>5</td>\n",
       "      <td>22</td>\n",
       "      <td>29</td>\n",
       "      <td>0</td>\n",
       "    </tr>\n",
       "    <tr>\n",
       "      <th>1</th>\n",
       "      <td>2007-05-29</td>\n",
       "      <td>CULEX PIPIENS/RESTUANS</td>\n",
       "      <td>T002</td>\n",
       "      <td>41.954690</td>\n",
       "      <td>-87.800991</td>\n",
       "      <td>1</td>\n",
       "      <td>0</td>\n",
       "      <td>88</td>\n",
       "      <td>60</td>\n",
       "      <td>74</td>\n",
       "      <td>...</td>\n",
       "      <td>29.44</td>\n",
       "      <td>30.09</td>\n",
       "      <td>5.8</td>\n",
       "      <td>16</td>\n",
       "      <td>7.4</td>\n",
       "      <td>2007</td>\n",
       "      <td>5</td>\n",
       "      <td>22</td>\n",
       "      <td>29</td>\n",
       "      <td>0</td>\n",
       "    </tr>\n",
       "    <tr>\n",
       "      <th>2</th>\n",
       "      <td>2007-05-29</td>\n",
       "      <td>CULEX PIPIENS/RESTUANS</td>\n",
       "      <td>T015</td>\n",
       "      <td>41.974089</td>\n",
       "      <td>-87.824812</td>\n",
       "      <td>1</td>\n",
       "      <td>0</td>\n",
       "      <td>88</td>\n",
       "      <td>60</td>\n",
       "      <td>74</td>\n",
       "      <td>...</td>\n",
       "      <td>29.44</td>\n",
       "      <td>30.09</td>\n",
       "      <td>5.8</td>\n",
       "      <td>16</td>\n",
       "      <td>7.4</td>\n",
       "      <td>2007</td>\n",
       "      <td>5</td>\n",
       "      <td>22</td>\n",
       "      <td>29</td>\n",
       "      <td>0</td>\n",
       "    </tr>\n",
       "    <tr>\n",
       "      <th>3</th>\n",
       "      <td>2007-05-29</td>\n",
       "      <td>CULEX PIPIENS/RESTUANS</td>\n",
       "      <td>T048</td>\n",
       "      <td>41.867108</td>\n",
       "      <td>-87.654224</td>\n",
       "      <td>1</td>\n",
       "      <td>0</td>\n",
       "      <td>88</td>\n",
       "      <td>60</td>\n",
       "      <td>74</td>\n",
       "      <td>...</td>\n",
       "      <td>29.44</td>\n",
       "      <td>30.09</td>\n",
       "      <td>5.8</td>\n",
       "      <td>16</td>\n",
       "      <td>7.4</td>\n",
       "      <td>2007</td>\n",
       "      <td>5</td>\n",
       "      <td>22</td>\n",
       "      <td>29</td>\n",
       "      <td>0</td>\n",
       "    </tr>\n",
       "    <tr>\n",
       "      <th>4</th>\n",
       "      <td>2007-05-29</td>\n",
       "      <td>CULEX PIPIENS/RESTUANS</td>\n",
       "      <td>T050</td>\n",
       "      <td>41.919343</td>\n",
       "      <td>-87.694259</td>\n",
       "      <td>1</td>\n",
       "      <td>0</td>\n",
       "      <td>88</td>\n",
       "      <td>60</td>\n",
       "      <td>74</td>\n",
       "      <td>...</td>\n",
       "      <td>29.44</td>\n",
       "      <td>30.09</td>\n",
       "      <td>5.8</td>\n",
       "      <td>16</td>\n",
       "      <td>7.4</td>\n",
       "      <td>2007</td>\n",
       "      <td>5</td>\n",
       "      <td>22</td>\n",
       "      <td>29</td>\n",
       "      <td>0</td>\n",
       "    </tr>\n",
       "  </tbody>\n",
       "</table>\n",
       "<p>5 rows × 50 columns</p>\n",
       "</div>"
      ],
      "text/plain": [
       "        Date                 Species  Trap   Latitude  Longitude  \\\n",
       "0 2007-05-29           CULEX PIPIENS  T096  41.731922 -87.677512   \n",
       "1 2007-05-29  CULEX PIPIENS/RESTUANS  T002  41.954690 -87.800991   \n",
       "2 2007-05-29  CULEX PIPIENS/RESTUANS  T015  41.974089 -87.824812   \n",
       "3 2007-05-29  CULEX PIPIENS/RESTUANS  T048  41.867108 -87.654224   \n",
       "4 2007-05-29  CULEX PIPIENS/RESTUANS  T050  41.919343 -87.694259   \n",
       "\n",
       "   NumMosquitos  WnvPresent  Tmax1  Tmin1 Tavg1   ...   StnPressure2  \\\n",
       "0             1           0     88     60    74   ...          29.44   \n",
       "1             1           0     88     60    74   ...          29.44   \n",
       "2             1           0     88     60    74   ...          29.44   \n",
       "3             1           0     88     60    74   ...          29.44   \n",
       "4             1           0     88     60    74   ...          29.44   \n",
       "\n",
       "   SeaLevel2 ResultSpeed2 ResultDir2 AvgSpeed2  Year Month Week Day Sprayed  \n",
       "0      30.09          5.8         16       7.4  2007     5   22  29       0  \n",
       "1      30.09          5.8         16       7.4  2007     5   22  29       0  \n",
       "2      30.09          5.8         16       7.4  2007     5   22  29       0  \n",
       "3      30.09          5.8         16       7.4  2007     5   22  29       0  \n",
       "4      30.09          5.8         16       7.4  2007     5   22  29       0  \n",
       "\n",
       "[5 rows x 50 columns]"
      ]
     },
     "execution_count": 254,
     "metadata": {},
     "output_type": "execute_result"
    }
   ],
   "source": [
    "df.drop(['merge_latitude', 'merge_longitude', 'Spray1', 'Spray2', 'Spray3'], axis=1, inplace=True)\n",
    "df.head()"
   ]
  },
  {
   "cell_type": "code",
   "execution_count": 255,
   "metadata": {
    "collapsed": false
   },
   "outputs": [
    {
     "data": {
      "text/plain": [
       "0    8359\n",
       "1     116\n",
       "Name: Sprayed, dtype: int64"
      ]
     },
     "execution_count": 255,
     "metadata": {},
     "output_type": "execute_result"
    }
   ],
   "source": [
    "df.Sprayed.value_counts()"
   ]
  },
  {
   "cell_type": "code",
   "execution_count": 256,
   "metadata": {
    "collapsed": false
   },
   "outputs": [
    {
     "data": {
      "text/plain": [
       "0.05765407554671968"
      ]
     },
     "execution_count": 256,
     "metadata": {},
     "output_type": "execute_result"
    }
   ],
   "source": [
    "116 / 2012."
   ]
  },
  {
   "cell_type": "code",
   "execution_count": 257,
   "metadata": {
    "collapsed": false
   },
   "outputs": [
    {
     "data": {
      "text/plain": [
       "2007    2775\n",
       "2013    2012\n",
       "2009    1915\n",
       "2011    1773\n",
       "Name: Year, dtype: int64"
      ]
     },
     "execution_count": 257,
     "metadata": {},
     "output_type": "execute_result"
    }
   ],
   "source": [
    "df.Year.value_counts()"
   ]
  },
  {
   "cell_type": "code",
   "execution_count": 258,
   "metadata": {
    "collapsed": true
   },
   "outputs": [],
   "source": [
    "df.drop(['Date', 'Month', 'Day'], axis=1, inplace=True)"
   ]
  },
  {
   "cell_type": "code",
   "execution_count": 259,
   "metadata": {
    "collapsed": false
   },
   "outputs": [],
   "source": [
    "df['wnv'] = df.WnvPresent"
   ]
  },
  {
   "cell_type": "code",
   "execution_count": 260,
   "metadata": {
    "collapsed": false
   },
   "outputs": [],
   "source": [
    "df.drop('WnvPresent', axis=1, inplace=True)"
   ]
  },
  {
   "cell_type": "code",
   "execution_count": 261,
   "metadata": {
    "collapsed": false
   },
   "outputs": [
    {
     "data": {
      "text/html": [
       "<div>\n",
       "<table border=\"1\" class=\"dataframe\">\n",
       "  <thead>\n",
       "    <tr style=\"text-align: right;\">\n",
       "      <th></th>\n",
       "      <th>Species</th>\n",
       "      <th>Trap</th>\n",
       "      <th>Latitude</th>\n",
       "      <th>Longitude</th>\n",
       "      <th>NumMosquitos</th>\n",
       "      <th>Tmax1</th>\n",
       "      <th>Tmin1</th>\n",
       "      <th>Tavg1</th>\n",
       "      <th>Depart1</th>\n",
       "      <th>DewPoint1</th>\n",
       "      <th>...</th>\n",
       "      <th>PrecipTotal2</th>\n",
       "      <th>StnPressure2</th>\n",
       "      <th>SeaLevel2</th>\n",
       "      <th>ResultSpeed2</th>\n",
       "      <th>ResultDir2</th>\n",
       "      <th>AvgSpeed2</th>\n",
       "      <th>Year</th>\n",
       "      <th>Week</th>\n",
       "      <th>Sprayed</th>\n",
       "      <th>wnv</th>\n",
       "    </tr>\n",
       "  </thead>\n",
       "  <tbody>\n",
       "    <tr>\n",
       "      <th>0</th>\n",
       "      <td>CULEX PIPIENS</td>\n",
       "      <td>T096</td>\n",
       "      <td>41.731922</td>\n",
       "      <td>-87.677512</td>\n",
       "      <td>1</td>\n",
       "      <td>88</td>\n",
       "      <td>60</td>\n",
       "      <td>74</td>\n",
       "      <td>10</td>\n",
       "      <td>58</td>\n",
       "      <td>...</td>\n",
       "      <td>0.00</td>\n",
       "      <td>29.44</td>\n",
       "      <td>30.09</td>\n",
       "      <td>5.8</td>\n",
       "      <td>16</td>\n",
       "      <td>7.4</td>\n",
       "      <td>2007</td>\n",
       "      <td>22</td>\n",
       "      <td>0</td>\n",
       "      <td>0</td>\n",
       "    </tr>\n",
       "    <tr>\n",
       "      <th>1</th>\n",
       "      <td>CULEX PIPIENS/RESTUANS</td>\n",
       "      <td>T002</td>\n",
       "      <td>41.954690</td>\n",
       "      <td>-87.800991</td>\n",
       "      <td>1</td>\n",
       "      <td>88</td>\n",
       "      <td>60</td>\n",
       "      <td>74</td>\n",
       "      <td>10</td>\n",
       "      <td>58</td>\n",
       "      <td>...</td>\n",
       "      <td>0.00</td>\n",
       "      <td>29.44</td>\n",
       "      <td>30.09</td>\n",
       "      <td>5.8</td>\n",
       "      <td>16</td>\n",
       "      <td>7.4</td>\n",
       "      <td>2007</td>\n",
       "      <td>22</td>\n",
       "      <td>0</td>\n",
       "      <td>0</td>\n",
       "    </tr>\n",
       "    <tr>\n",
       "      <th>2</th>\n",
       "      <td>CULEX PIPIENS/RESTUANS</td>\n",
       "      <td>T015</td>\n",
       "      <td>41.974089</td>\n",
       "      <td>-87.824812</td>\n",
       "      <td>1</td>\n",
       "      <td>88</td>\n",
       "      <td>60</td>\n",
       "      <td>74</td>\n",
       "      <td>10</td>\n",
       "      <td>58</td>\n",
       "      <td>...</td>\n",
       "      <td>0.00</td>\n",
       "      <td>29.44</td>\n",
       "      <td>30.09</td>\n",
       "      <td>5.8</td>\n",
       "      <td>16</td>\n",
       "      <td>7.4</td>\n",
       "      <td>2007</td>\n",
       "      <td>22</td>\n",
       "      <td>0</td>\n",
       "      <td>0</td>\n",
       "    </tr>\n",
       "    <tr>\n",
       "      <th>3</th>\n",
       "      <td>CULEX PIPIENS/RESTUANS</td>\n",
       "      <td>T048</td>\n",
       "      <td>41.867108</td>\n",
       "      <td>-87.654224</td>\n",
       "      <td>1</td>\n",
       "      <td>88</td>\n",
       "      <td>60</td>\n",
       "      <td>74</td>\n",
       "      <td>10</td>\n",
       "      <td>58</td>\n",
       "      <td>...</td>\n",
       "      <td>0.00</td>\n",
       "      <td>29.44</td>\n",
       "      <td>30.09</td>\n",
       "      <td>5.8</td>\n",
       "      <td>16</td>\n",
       "      <td>7.4</td>\n",
       "      <td>2007</td>\n",
       "      <td>22</td>\n",
       "      <td>0</td>\n",
       "      <td>0</td>\n",
       "    </tr>\n",
       "    <tr>\n",
       "      <th>4</th>\n",
       "      <td>CULEX PIPIENS/RESTUANS</td>\n",
       "      <td>T050</td>\n",
       "      <td>41.919343</td>\n",
       "      <td>-87.694259</td>\n",
       "      <td>1</td>\n",
       "      <td>88</td>\n",
       "      <td>60</td>\n",
       "      <td>74</td>\n",
       "      <td>10</td>\n",
       "      <td>58</td>\n",
       "      <td>...</td>\n",
       "      <td>0.00</td>\n",
       "      <td>29.44</td>\n",
       "      <td>30.09</td>\n",
       "      <td>5.8</td>\n",
       "      <td>16</td>\n",
       "      <td>7.4</td>\n",
       "      <td>2007</td>\n",
       "      <td>22</td>\n",
       "      <td>0</td>\n",
       "      <td>0</td>\n",
       "    </tr>\n",
       "  </tbody>\n",
       "</table>\n",
       "<p>5 rows × 47 columns</p>\n",
       "</div>"
      ],
      "text/plain": [
       "                  Species  Trap   Latitude  Longitude  NumMosquitos  Tmax1  \\\n",
       "0           CULEX PIPIENS  T096  41.731922 -87.677512             1     88   \n",
       "1  CULEX PIPIENS/RESTUANS  T002  41.954690 -87.800991             1     88   \n",
       "2  CULEX PIPIENS/RESTUANS  T015  41.974089 -87.824812             1     88   \n",
       "3  CULEX PIPIENS/RESTUANS  T048  41.867108 -87.654224             1     88   \n",
       "4  CULEX PIPIENS/RESTUANS  T050  41.919343 -87.694259             1     88   \n",
       "\n",
       "   Tmin1 Tavg1 Depart1  DewPoint1 ... PrecipTotal2 StnPressure2 SeaLevel2  \\\n",
       "0     60    74      10         58 ...         0.00        29.44     30.09   \n",
       "1     60    74      10         58 ...         0.00        29.44     30.09   \n",
       "2     60    74      10         58 ...         0.00        29.44     30.09   \n",
       "3     60    74      10         58 ...         0.00        29.44     30.09   \n",
       "4     60    74      10         58 ...         0.00        29.44     30.09   \n",
       "\n",
       "  ResultSpeed2 ResultDir2 AvgSpeed2  Year Week Sprayed wnv  \n",
       "0          5.8         16       7.4  2007   22       0   0  \n",
       "1          5.8         16       7.4  2007   22       0   0  \n",
       "2          5.8         16       7.4  2007   22       0   0  \n",
       "3          5.8         16       7.4  2007   22       0   0  \n",
       "4          5.8         16       7.4  2007   22       0   0  \n",
       "\n",
       "[5 rows x 47 columns]"
      ]
     },
     "execution_count": 261,
     "metadata": {},
     "output_type": "execute_result"
    }
   ],
   "source": [
    "df.head()"
   ]
  },
  {
   "cell_type": "code",
   "execution_count": 262,
   "metadata": {
    "collapsed": true
   },
   "outputs": [],
   "source": [
    "df.to_csv('~/desktop/wnv.csv')"
   ]
  },
  {
   "cell_type": "markdown",
   "metadata": {},
   "source": [
    "### Done with cleaning."
   ]
  },
  {
   "cell_type": "code",
   "execution_count": 5,
   "metadata": {
    "collapsed": false
   },
   "outputs": [],
   "source": [
    "df = pd.read_csv('~/desktop/wnv.csv')"
   ]
  },
  {
   "cell_type": "code",
   "execution_count": 6,
   "metadata": {
    "collapsed": false
   },
   "outputs": [
    {
     "data": {
      "text/html": [
       "<div>\n",
       "<table border=\"1\" class=\"dataframe\">\n",
       "  <thead>\n",
       "    <tr style=\"text-align: right;\">\n",
       "      <th></th>\n",
       "      <th>Unnamed: 0</th>\n",
       "      <th>Species</th>\n",
       "      <th>Trap</th>\n",
       "      <th>Latitude</th>\n",
       "      <th>Longitude</th>\n",
       "      <th>NumMosquitos</th>\n",
       "      <th>Tmax1</th>\n",
       "      <th>Tmin1</th>\n",
       "      <th>Tavg1</th>\n",
       "      <th>Depart1</th>\n",
       "      <th>...</th>\n",
       "      <th>PrecipTotal2</th>\n",
       "      <th>StnPressure2</th>\n",
       "      <th>SeaLevel2</th>\n",
       "      <th>ResultSpeed2</th>\n",
       "      <th>ResultDir2</th>\n",
       "      <th>AvgSpeed2</th>\n",
       "      <th>Year</th>\n",
       "      <th>Week</th>\n",
       "      <th>Sprayed</th>\n",
       "      <th>wnv</th>\n",
       "    </tr>\n",
       "  </thead>\n",
       "  <tbody>\n",
       "    <tr>\n",
       "      <th>0</th>\n",
       "      <td>0</td>\n",
       "      <td>CULEX PIPIENS</td>\n",
       "      <td>T096</td>\n",
       "      <td>41.731922</td>\n",
       "      <td>-87.677512</td>\n",
       "      <td>1</td>\n",
       "      <td>88</td>\n",
       "      <td>60</td>\n",
       "      <td>74</td>\n",
       "      <td>10</td>\n",
       "      <td>...</td>\n",
       "      <td>0.00</td>\n",
       "      <td>29.44</td>\n",
       "      <td>30.09</td>\n",
       "      <td>5.8</td>\n",
       "      <td>16</td>\n",
       "      <td>7.4</td>\n",
       "      <td>2007</td>\n",
       "      <td>22</td>\n",
       "      <td>0</td>\n",
       "      <td>0</td>\n",
       "    </tr>\n",
       "    <tr>\n",
       "      <th>1</th>\n",
       "      <td>1</td>\n",
       "      <td>CULEX PIPIENS/RESTUANS</td>\n",
       "      <td>T002</td>\n",
       "      <td>41.954690</td>\n",
       "      <td>-87.800991</td>\n",
       "      <td>1</td>\n",
       "      <td>88</td>\n",
       "      <td>60</td>\n",
       "      <td>74</td>\n",
       "      <td>10</td>\n",
       "      <td>...</td>\n",
       "      <td>0.00</td>\n",
       "      <td>29.44</td>\n",
       "      <td>30.09</td>\n",
       "      <td>5.8</td>\n",
       "      <td>16</td>\n",
       "      <td>7.4</td>\n",
       "      <td>2007</td>\n",
       "      <td>22</td>\n",
       "      <td>0</td>\n",
       "      <td>0</td>\n",
       "    </tr>\n",
       "    <tr>\n",
       "      <th>2</th>\n",
       "      <td>2</td>\n",
       "      <td>CULEX PIPIENS/RESTUANS</td>\n",
       "      <td>T015</td>\n",
       "      <td>41.974089</td>\n",
       "      <td>-87.824812</td>\n",
       "      <td>1</td>\n",
       "      <td>88</td>\n",
       "      <td>60</td>\n",
       "      <td>74</td>\n",
       "      <td>10</td>\n",
       "      <td>...</td>\n",
       "      <td>0.00</td>\n",
       "      <td>29.44</td>\n",
       "      <td>30.09</td>\n",
       "      <td>5.8</td>\n",
       "      <td>16</td>\n",
       "      <td>7.4</td>\n",
       "      <td>2007</td>\n",
       "      <td>22</td>\n",
       "      <td>0</td>\n",
       "      <td>0</td>\n",
       "    </tr>\n",
       "    <tr>\n",
       "      <th>3</th>\n",
       "      <td>3</td>\n",
       "      <td>CULEX PIPIENS/RESTUANS</td>\n",
       "      <td>T048</td>\n",
       "      <td>41.867108</td>\n",
       "      <td>-87.654224</td>\n",
       "      <td>1</td>\n",
       "      <td>88</td>\n",
       "      <td>60</td>\n",
       "      <td>74</td>\n",
       "      <td>10</td>\n",
       "      <td>...</td>\n",
       "      <td>0.00</td>\n",
       "      <td>29.44</td>\n",
       "      <td>30.09</td>\n",
       "      <td>5.8</td>\n",
       "      <td>16</td>\n",
       "      <td>7.4</td>\n",
       "      <td>2007</td>\n",
       "      <td>22</td>\n",
       "      <td>0</td>\n",
       "      <td>0</td>\n",
       "    </tr>\n",
       "    <tr>\n",
       "      <th>4</th>\n",
       "      <td>4</td>\n",
       "      <td>CULEX PIPIENS/RESTUANS</td>\n",
       "      <td>T050</td>\n",
       "      <td>41.919343</td>\n",
       "      <td>-87.694259</td>\n",
       "      <td>1</td>\n",
       "      <td>88</td>\n",
       "      <td>60</td>\n",
       "      <td>74</td>\n",
       "      <td>10</td>\n",
       "      <td>...</td>\n",
       "      <td>0.00</td>\n",
       "      <td>29.44</td>\n",
       "      <td>30.09</td>\n",
       "      <td>5.8</td>\n",
       "      <td>16</td>\n",
       "      <td>7.4</td>\n",
       "      <td>2007</td>\n",
       "      <td>22</td>\n",
       "      <td>0</td>\n",
       "      <td>0</td>\n",
       "    </tr>\n",
       "  </tbody>\n",
       "</table>\n",
       "<p>5 rows × 48 columns</p>\n",
       "</div>"
      ],
      "text/plain": [
       "   Unnamed: 0                 Species  Trap   Latitude  Longitude  \\\n",
       "0           0           CULEX PIPIENS  T096  41.731922 -87.677512   \n",
       "1           1  CULEX PIPIENS/RESTUANS  T002  41.954690 -87.800991   \n",
       "2           2  CULEX PIPIENS/RESTUANS  T015  41.974089 -87.824812   \n",
       "3           3  CULEX PIPIENS/RESTUANS  T048  41.867108 -87.654224   \n",
       "4           4  CULEX PIPIENS/RESTUANS  T050  41.919343 -87.694259   \n",
       "\n",
       "   NumMosquitos  Tmax1  Tmin1  Tavg1  Depart1 ...  PrecipTotal2 StnPressure2  \\\n",
       "0             1     88     60     74       10 ...          0.00        29.44   \n",
       "1             1     88     60     74       10 ...          0.00        29.44   \n",
       "2             1     88     60     74       10 ...          0.00        29.44   \n",
       "3             1     88     60     74       10 ...          0.00        29.44   \n",
       "4             1     88     60     74       10 ...          0.00        29.44   \n",
       "\n",
       "   SeaLevel2  ResultSpeed2  ResultDir2  AvgSpeed2  Year Week Sprayed wnv  \n",
       "0      30.09           5.8          16        7.4  2007   22       0   0  \n",
       "1      30.09           5.8          16        7.4  2007   22       0   0  \n",
       "2      30.09           5.8          16        7.4  2007   22       0   0  \n",
       "3      30.09           5.8          16        7.4  2007   22       0   0  \n",
       "4      30.09           5.8          16        7.4  2007   22       0   0  \n",
       "\n",
       "[5 rows x 48 columns]"
      ]
     },
     "execution_count": 6,
     "metadata": {},
     "output_type": "execute_result"
    }
   ],
   "source": [
    "df.head()"
   ]
  },
  {
   "cell_type": "code",
   "execution_count": 7,
   "metadata": {
    "collapsed": true
   },
   "outputs": [],
   "source": [
    "df.drop('Unnamed: 0', axis=1, inplace=True)"
   ]
  },
  {
   "cell_type": "code",
   "execution_count": 8,
   "metadata": {
    "collapsed": false
   },
   "outputs": [
    {
     "data": {
      "text/html": [
       "<div>\n",
       "<table border=\"1\" class=\"dataframe\">\n",
       "  <thead>\n",
       "    <tr style=\"text-align: right;\">\n",
       "      <th></th>\n",
       "      <th>Species</th>\n",
       "      <th>Trap</th>\n",
       "      <th>Latitude</th>\n",
       "      <th>Longitude</th>\n",
       "      <th>NumMosquitos</th>\n",
       "      <th>Tmax1</th>\n",
       "      <th>Tmin1</th>\n",
       "      <th>Tavg1</th>\n",
       "      <th>Depart1</th>\n",
       "      <th>DewPoint1</th>\n",
       "      <th>...</th>\n",
       "      <th>PrecipTotal2</th>\n",
       "      <th>StnPressure2</th>\n",
       "      <th>SeaLevel2</th>\n",
       "      <th>ResultSpeed2</th>\n",
       "      <th>ResultDir2</th>\n",
       "      <th>AvgSpeed2</th>\n",
       "      <th>Year</th>\n",
       "      <th>Week</th>\n",
       "      <th>Sprayed</th>\n",
       "      <th>wnv</th>\n",
       "    </tr>\n",
       "  </thead>\n",
       "  <tbody>\n",
       "    <tr>\n",
       "      <th>0</th>\n",
       "      <td>CULEX PIPIENS</td>\n",
       "      <td>T096</td>\n",
       "      <td>41.731922</td>\n",
       "      <td>-87.677512</td>\n",
       "      <td>1</td>\n",
       "      <td>88</td>\n",
       "      <td>60</td>\n",
       "      <td>74</td>\n",
       "      <td>10</td>\n",
       "      <td>58</td>\n",
       "      <td>...</td>\n",
       "      <td>0.00</td>\n",
       "      <td>29.44</td>\n",
       "      <td>30.09</td>\n",
       "      <td>5.8</td>\n",
       "      <td>16</td>\n",
       "      <td>7.4</td>\n",
       "      <td>2007</td>\n",
       "      <td>22</td>\n",
       "      <td>0</td>\n",
       "      <td>0</td>\n",
       "    </tr>\n",
       "    <tr>\n",
       "      <th>1</th>\n",
       "      <td>CULEX PIPIENS/RESTUANS</td>\n",
       "      <td>T002</td>\n",
       "      <td>41.954690</td>\n",
       "      <td>-87.800991</td>\n",
       "      <td>1</td>\n",
       "      <td>88</td>\n",
       "      <td>60</td>\n",
       "      <td>74</td>\n",
       "      <td>10</td>\n",
       "      <td>58</td>\n",
       "      <td>...</td>\n",
       "      <td>0.00</td>\n",
       "      <td>29.44</td>\n",
       "      <td>30.09</td>\n",
       "      <td>5.8</td>\n",
       "      <td>16</td>\n",
       "      <td>7.4</td>\n",
       "      <td>2007</td>\n",
       "      <td>22</td>\n",
       "      <td>0</td>\n",
       "      <td>0</td>\n",
       "    </tr>\n",
       "    <tr>\n",
       "      <th>2</th>\n",
       "      <td>CULEX PIPIENS/RESTUANS</td>\n",
       "      <td>T015</td>\n",
       "      <td>41.974089</td>\n",
       "      <td>-87.824812</td>\n",
       "      <td>1</td>\n",
       "      <td>88</td>\n",
       "      <td>60</td>\n",
       "      <td>74</td>\n",
       "      <td>10</td>\n",
       "      <td>58</td>\n",
       "      <td>...</td>\n",
       "      <td>0.00</td>\n",
       "      <td>29.44</td>\n",
       "      <td>30.09</td>\n",
       "      <td>5.8</td>\n",
       "      <td>16</td>\n",
       "      <td>7.4</td>\n",
       "      <td>2007</td>\n",
       "      <td>22</td>\n",
       "      <td>0</td>\n",
       "      <td>0</td>\n",
       "    </tr>\n",
       "    <tr>\n",
       "      <th>3</th>\n",
       "      <td>CULEX PIPIENS/RESTUANS</td>\n",
       "      <td>T048</td>\n",
       "      <td>41.867108</td>\n",
       "      <td>-87.654224</td>\n",
       "      <td>1</td>\n",
       "      <td>88</td>\n",
       "      <td>60</td>\n",
       "      <td>74</td>\n",
       "      <td>10</td>\n",
       "      <td>58</td>\n",
       "      <td>...</td>\n",
       "      <td>0.00</td>\n",
       "      <td>29.44</td>\n",
       "      <td>30.09</td>\n",
       "      <td>5.8</td>\n",
       "      <td>16</td>\n",
       "      <td>7.4</td>\n",
       "      <td>2007</td>\n",
       "      <td>22</td>\n",
       "      <td>0</td>\n",
       "      <td>0</td>\n",
       "    </tr>\n",
       "    <tr>\n",
       "      <th>4</th>\n",
       "      <td>CULEX PIPIENS/RESTUANS</td>\n",
       "      <td>T050</td>\n",
       "      <td>41.919343</td>\n",
       "      <td>-87.694259</td>\n",
       "      <td>1</td>\n",
       "      <td>88</td>\n",
       "      <td>60</td>\n",
       "      <td>74</td>\n",
       "      <td>10</td>\n",
       "      <td>58</td>\n",
       "      <td>...</td>\n",
       "      <td>0.00</td>\n",
       "      <td>29.44</td>\n",
       "      <td>30.09</td>\n",
       "      <td>5.8</td>\n",
       "      <td>16</td>\n",
       "      <td>7.4</td>\n",
       "      <td>2007</td>\n",
       "      <td>22</td>\n",
       "      <td>0</td>\n",
       "      <td>0</td>\n",
       "    </tr>\n",
       "  </tbody>\n",
       "</table>\n",
       "<p>5 rows × 47 columns</p>\n",
       "</div>"
      ],
      "text/plain": [
       "                  Species  Trap   Latitude  Longitude  NumMosquitos  Tmax1  \\\n",
       "0           CULEX PIPIENS  T096  41.731922 -87.677512             1     88   \n",
       "1  CULEX PIPIENS/RESTUANS  T002  41.954690 -87.800991             1     88   \n",
       "2  CULEX PIPIENS/RESTUANS  T015  41.974089 -87.824812             1     88   \n",
       "3  CULEX PIPIENS/RESTUANS  T048  41.867108 -87.654224             1     88   \n",
       "4  CULEX PIPIENS/RESTUANS  T050  41.919343 -87.694259             1     88   \n",
       "\n",
       "   Tmin1  Tavg1  Depart1  DewPoint1 ... PrecipTotal2  StnPressure2  SeaLevel2  \\\n",
       "0     60     74       10         58 ...         0.00         29.44      30.09   \n",
       "1     60     74       10         58 ...         0.00         29.44      30.09   \n",
       "2     60     74       10         58 ...         0.00         29.44      30.09   \n",
       "3     60     74       10         58 ...         0.00         29.44      30.09   \n",
       "4     60     74       10         58 ...         0.00         29.44      30.09   \n",
       "\n",
       "   ResultSpeed2  ResultDir2  AvgSpeed2  Year Week Sprayed wnv  \n",
       "0           5.8          16        7.4  2007   22       0   0  \n",
       "1           5.8          16        7.4  2007   22       0   0  \n",
       "2           5.8          16        7.4  2007   22       0   0  \n",
       "3           5.8          16        7.4  2007   22       0   0  \n",
       "4           5.8          16        7.4  2007   22       0   0  \n",
       "\n",
       "[5 rows x 47 columns]"
      ]
     },
     "execution_count": 8,
     "metadata": {},
     "output_type": "execute_result"
    }
   ],
   "source": [
    "df.head()"
   ]
  },
  {
   "cell_type": "code",
   "execution_count": 9,
   "metadata": {
    "collapsed": false
   },
   "outputs": [],
   "source": [
    "le = LabelEncoder()\n",
    "cols = [i for i in df.select_dtypes(include=['object']).columns]\n",
    "df[cols] = df[cols].apply(le.fit_transform)"
   ]
  },
  {
   "cell_type": "code",
   "execution_count": 10,
   "metadata": {
    "collapsed": false
   },
   "outputs": [
    {
     "data": {
      "text/plain": [
       "0.9460766961651917"
      ]
     },
     "execution_count": 10,
     "metadata": {},
     "output_type": "execute_result"
    }
   ],
   "source": [
    "1-float(df.wnv.sum())/len(df.wnv)"
   ]
  },
  {
   "cell_type": "code",
   "execution_count": 11,
   "metadata": {
    "collapsed": false
   },
   "outputs": [
    {
     "data": {
      "text/plain": [
       "Species           int64\n",
       "Trap              int64\n",
       "Latitude        float64\n",
       "Longitude       float64\n",
       "NumMosquitos      int64\n",
       "Tmax1             int64\n",
       "Tmin1             int64\n",
       "Tavg1             int64\n",
       "Depart1           int64\n",
       "DewPoint1         int64\n",
       "WetBulb1          int64\n",
       "Heat1             int64\n",
       "Cool1             int64\n",
       "Sunrise1          int64\n",
       "Sunset1           int64\n",
       "Depth1            int64\n",
       "Water11           int64\n",
       "SnowFall1         int64\n",
       "PrecipTotal1      int64\n",
       "StnPressure1      int64\n",
       "SeaLevel1       float64\n",
       "ResultSpeed1    float64\n",
       "ResultDir1        int64\n",
       "AvgSpeed1       float64\n",
       "Tmax2             int64\n",
       "Tmin2             int64\n",
       "Tavg2             int64\n",
       "Depart2           int64\n",
       "DewPoint2         int64\n",
       "WetBulb2          int64\n",
       "Heat2             int64\n",
       "Cool2             int64\n",
       "Sunrise2          int64\n",
       "Sunset2           int64\n",
       "Depth2            int64\n",
       "Water12           int64\n",
       "SnowFall2         int64\n",
       "PrecipTotal2      int64\n",
       "StnPressure2    float64\n",
       "SeaLevel2       float64\n",
       "ResultSpeed2    float64\n",
       "ResultDir2        int64\n",
       "AvgSpeed2       float64\n",
       "Year              int64\n",
       "Week              int64\n",
       "Sprayed           int64\n",
       "wnv               int64\n",
       "dtype: object"
      ]
     },
     "execution_count": 11,
     "metadata": {},
     "output_type": "execute_result"
    }
   ],
   "source": [
    "df.dtypes"
   ]
  },
  {
   "cell_type": "code",
   "execution_count": 12,
   "metadata": {
    "collapsed": false
   },
   "outputs": [
    {
     "data": {
      "text/html": [
       "<div>\n",
       "<table border=\"1\" class=\"dataframe\">\n",
       "  <thead>\n",
       "    <tr style=\"text-align: right;\">\n",
       "      <th></th>\n",
       "      <th>Species</th>\n",
       "      <th>Trap</th>\n",
       "      <th>Latitude</th>\n",
       "      <th>Longitude</th>\n",
       "      <th>NumMosquitos</th>\n",
       "      <th>Tmax1</th>\n",
       "      <th>Tmin1</th>\n",
       "      <th>Tavg1</th>\n",
       "      <th>Depart1</th>\n",
       "      <th>DewPoint1</th>\n",
       "      <th>...</th>\n",
       "      <th>PrecipTotal2</th>\n",
       "      <th>StnPressure2</th>\n",
       "      <th>SeaLevel2</th>\n",
       "      <th>ResultSpeed2</th>\n",
       "      <th>ResultDir2</th>\n",
       "      <th>AvgSpeed2</th>\n",
       "      <th>Year</th>\n",
       "      <th>Week</th>\n",
       "      <th>Sprayed</th>\n",
       "      <th>wnv</th>\n",
       "    </tr>\n",
       "  </thead>\n",
       "  <tbody>\n",
       "    <tr>\n",
       "      <th>0</th>\n",
       "      <td>1</td>\n",
       "      <td>74</td>\n",
       "      <td>41.731922</td>\n",
       "      <td>-87.677512</td>\n",
       "      <td>1</td>\n",
       "      <td>88</td>\n",
       "      <td>60</td>\n",
       "      <td>74</td>\n",
       "      <td>10</td>\n",
       "      <td>58</td>\n",
       "      <td>...</td>\n",
       "      <td>1</td>\n",
       "      <td>29.44</td>\n",
       "      <td>30.09</td>\n",
       "      <td>5.8</td>\n",
       "      <td>16</td>\n",
       "      <td>7.4</td>\n",
       "      <td>2007</td>\n",
       "      <td>22</td>\n",
       "      <td>0</td>\n",
       "      <td>0</td>\n",
       "    </tr>\n",
       "    <tr>\n",
       "      <th>1</th>\n",
       "      <td>2</td>\n",
       "      <td>1</td>\n",
       "      <td>41.954690</td>\n",
       "      <td>-87.800991</td>\n",
       "      <td>1</td>\n",
       "      <td>88</td>\n",
       "      <td>60</td>\n",
       "      <td>74</td>\n",
       "      <td>10</td>\n",
       "      <td>58</td>\n",
       "      <td>...</td>\n",
       "      <td>1</td>\n",
       "      <td>29.44</td>\n",
       "      <td>30.09</td>\n",
       "      <td>5.8</td>\n",
       "      <td>16</td>\n",
       "      <td>7.4</td>\n",
       "      <td>2007</td>\n",
       "      <td>22</td>\n",
       "      <td>0</td>\n",
       "      <td>0</td>\n",
       "    </tr>\n",
       "    <tr>\n",
       "      <th>2</th>\n",
       "      <td>2</td>\n",
       "      <td>13</td>\n",
       "      <td>41.974089</td>\n",
       "      <td>-87.824812</td>\n",
       "      <td>1</td>\n",
       "      <td>88</td>\n",
       "      <td>60</td>\n",
       "      <td>74</td>\n",
       "      <td>10</td>\n",
       "      <td>58</td>\n",
       "      <td>...</td>\n",
       "      <td>1</td>\n",
       "      <td>29.44</td>\n",
       "      <td>30.09</td>\n",
       "      <td>5.8</td>\n",
       "      <td>16</td>\n",
       "      <td>7.4</td>\n",
       "      <td>2007</td>\n",
       "      <td>22</td>\n",
       "      <td>0</td>\n",
       "      <td>0</td>\n",
       "    </tr>\n",
       "    <tr>\n",
       "      <th>3</th>\n",
       "      <td>2</td>\n",
       "      <td>35</td>\n",
       "      <td>41.867108</td>\n",
       "      <td>-87.654224</td>\n",
       "      <td>1</td>\n",
       "      <td>88</td>\n",
       "      <td>60</td>\n",
       "      <td>74</td>\n",
       "      <td>10</td>\n",
       "      <td>58</td>\n",
       "      <td>...</td>\n",
       "      <td>1</td>\n",
       "      <td>29.44</td>\n",
       "      <td>30.09</td>\n",
       "      <td>5.8</td>\n",
       "      <td>16</td>\n",
       "      <td>7.4</td>\n",
       "      <td>2007</td>\n",
       "      <td>22</td>\n",
       "      <td>0</td>\n",
       "      <td>0</td>\n",
       "    </tr>\n",
       "    <tr>\n",
       "      <th>4</th>\n",
       "      <td>2</td>\n",
       "      <td>37</td>\n",
       "      <td>41.919343</td>\n",
       "      <td>-87.694259</td>\n",
       "      <td>1</td>\n",
       "      <td>88</td>\n",
       "      <td>60</td>\n",
       "      <td>74</td>\n",
       "      <td>10</td>\n",
       "      <td>58</td>\n",
       "      <td>...</td>\n",
       "      <td>1</td>\n",
       "      <td>29.44</td>\n",
       "      <td>30.09</td>\n",
       "      <td>5.8</td>\n",
       "      <td>16</td>\n",
       "      <td>7.4</td>\n",
       "      <td>2007</td>\n",
       "      <td>22</td>\n",
       "      <td>0</td>\n",
       "      <td>0</td>\n",
       "    </tr>\n",
       "  </tbody>\n",
       "</table>\n",
       "<p>5 rows × 47 columns</p>\n",
       "</div>"
      ],
      "text/plain": [
       "   Species  Trap   Latitude  Longitude  NumMosquitos  Tmax1  Tmin1  Tavg1  \\\n",
       "0        1    74  41.731922 -87.677512             1     88     60     74   \n",
       "1        2     1  41.954690 -87.800991             1     88     60     74   \n",
       "2        2    13  41.974089 -87.824812             1     88     60     74   \n",
       "3        2    35  41.867108 -87.654224             1     88     60     74   \n",
       "4        2    37  41.919343 -87.694259             1     88     60     74   \n",
       "\n",
       "   Depart1  DewPoint1 ...   PrecipTotal2  StnPressure2  SeaLevel2  \\\n",
       "0       10         58 ...              1         29.44      30.09   \n",
       "1       10         58 ...              1         29.44      30.09   \n",
       "2       10         58 ...              1         29.44      30.09   \n",
       "3       10         58 ...              1         29.44      30.09   \n",
       "4       10         58 ...              1         29.44      30.09   \n",
       "\n",
       "   ResultSpeed2  ResultDir2  AvgSpeed2  Year  Week  Sprayed  wnv  \n",
       "0           5.8          16        7.4  2007    22        0    0  \n",
       "1           5.8          16        7.4  2007    22        0    0  \n",
       "2           5.8          16        7.4  2007    22        0    0  \n",
       "3           5.8          16        7.4  2007    22        0    0  \n",
       "4           5.8          16        7.4  2007    22        0    0  \n",
       "\n",
       "[5 rows x 47 columns]"
      ]
     },
     "execution_count": 12,
     "metadata": {},
     "output_type": "execute_result"
    }
   ],
   "source": [
    "df.head()"
   ]
  },
  {
   "cell_type": "code",
   "execution_count": 13,
   "metadata": {
    "collapsed": true
   },
   "outputs": [],
   "source": [
    "X = df.iloc[:,0:-1]\n",
    "y = df.wnv"
   ]
  },
  {
   "cell_type": "markdown",
   "metadata": {},
   "source": [
    "### Feature Selection"
   ]
  },
  {
   "cell_type": "code",
   "execution_count": 172,
   "metadata": {
    "collapsed": true
   },
   "outputs": [],
   "source": []
  },
  {
   "cell_type": "code",
   "execution_count": 11,
   "metadata": {
    "collapsed": false
   },
   "outputs": [
    {
     "data": {
      "text/plain": [
       "RandomForestClassifier(bootstrap=True, class_weight=None, criterion='gini',\n",
       "            max_depth=None, max_features='auto', max_leaf_nodes=None,\n",
       "            min_samples_leaf=1, min_samples_split=2,\n",
       "            min_weight_fraction_leaf=0.0, n_estimators=10, n_jobs=1,\n",
       "            oob_score=False, random_state=None, verbose=0,\n",
       "            warm_start=False)"
      ]
     },
     "execution_count": 11,
     "metadata": {},
     "output_type": "execute_result"
    }
   ],
   "source": [
    "rf = RandomForestClassifier()\n",
    "rf.fit(X, y)"
   ]
  },
  {
   "cell_type": "code",
   "execution_count": 175,
   "metadata": {
    "collapsed": false
   },
   "outputs": [
    {
     "data": {
      "text/html": [
       "<div>\n",
       "<table border=\"1\" class=\"dataframe\">\n",
       "  <thead>\n",
       "    <tr style=\"text-align: right;\">\n",
       "      <th></th>\n",
       "      <th>importance</th>\n",
       "    </tr>\n",
       "  </thead>\n",
       "  <tbody>\n",
       "    <tr>\n",
       "      <th>NumMosquitos</th>\n",
       "      <td>0.257664</td>\n",
       "    </tr>\n",
       "    <tr>\n",
       "      <th>Longitude</th>\n",
       "      <td>0.162002</td>\n",
       "    </tr>\n",
       "    <tr>\n",
       "      <th>Latitude</th>\n",
       "      <td>0.154277</td>\n",
       "    </tr>\n",
       "    <tr>\n",
       "      <th>Trap</th>\n",
       "      <td>0.153267</td>\n",
       "    </tr>\n",
       "    <tr>\n",
       "      <th>Species</th>\n",
       "      <td>0.072848</td>\n",
       "    </tr>\n",
       "    <tr>\n",
       "      <th>Sunset1</th>\n",
       "      <td>0.020640</td>\n",
       "    </tr>\n",
       "    <tr>\n",
       "      <th>Sunrise1</th>\n",
       "      <td>0.018404</td>\n",
       "    </tr>\n",
       "    <tr>\n",
       "      <th>AvgSpeed1</th>\n",
       "      <td>0.011292</td>\n",
       "    </tr>\n",
       "    <tr>\n",
       "      <th>Week</th>\n",
       "      <td>0.009831</td>\n",
       "    </tr>\n",
       "    <tr>\n",
       "      <th>DewPoint2</th>\n",
       "      <td>0.008556</td>\n",
       "    </tr>\n",
       "  </tbody>\n",
       "</table>\n",
       "</div>"
      ],
      "text/plain": [
       "              importance\n",
       "NumMosquitos    0.257664\n",
       "Longitude       0.162002\n",
       "Latitude        0.154277\n",
       "Trap            0.153267\n",
       "Species         0.072848\n",
       "Sunset1         0.020640\n",
       "Sunrise1        0.018404\n",
       "AvgSpeed1       0.011292\n",
       "Week            0.009831\n",
       "DewPoint2       0.008556"
      ]
     },
     "execution_count": 175,
     "metadata": {},
     "output_type": "execute_result"
    }
   ],
   "source": [
    "feature_importances = pd.DataFrame(rf.feature_importances_,\n",
    "                                   index = X.columns,\n",
    "                                    columns=['importance']).sort_values('importance',\n",
    "                                                                        ascending=False)\n",
    "feature_importances.head(10)"
   ]
  },
  {
   "cell_type": "code",
   "execution_count": 14,
   "metadata": {
    "collapsed": false
   },
   "outputs": [],
   "source": [
    "X = df[['NumMosquitos', 'Longitude', 'Latitude', 'Trap', 'Species', 'Sunrise1', 'Sunset1', 'AvgSpeed1', 'Week']]"
   ]
  },
  {
   "cell_type": "markdown",
   "metadata": {},
   "source": [
    "### Try Ramdom Forest (like shit)"
   ]
  },
  {
   "cell_type": "code",
   "execution_count": 177,
   "metadata": {
    "collapsed": false
   },
   "outputs": [
    {
     "name": "stdout",
     "output_type": "stream",
     "text": [
      "0.860985710619\n"
     ]
    }
   ],
   "source": [
    "print cross_val_score(rf, X, y, cv=5, n_jobs=-1).mean()\n",
    "y_pred = cross_val_predict(rf, X, y, cv=5, n_jobs=-1)"
   ]
  },
  {
   "cell_type": "code",
   "execution_count": 178,
   "metadata": {
    "collapsed": false
   },
   "outputs": [
    {
     "data": {
      "text/html": [
       "<div>\n",
       "<table border=\"1\" class=\"dataframe\">\n",
       "  <thead>\n",
       "    <tr style=\"text-align: right;\">\n",
       "      <th></th>\n",
       "      <th>pred wnv</th>\n",
       "      <th>pred no wnv</th>\n",
       "    </tr>\n",
       "  </thead>\n",
       "  <tbody>\n",
       "    <tr>\n",
       "      <th>wnv</th>\n",
       "      <td>57</td>\n",
       "      <td>400</td>\n",
       "    </tr>\n",
       "    <tr>\n",
       "      <th>no wnv</th>\n",
       "      <td>778</td>\n",
       "      <td>7240</td>\n",
       "    </tr>\n",
       "  </tbody>\n",
       "</table>\n",
       "</div>"
      ],
      "text/plain": [
       "        pred wnv  pred no wnv\n",
       "wnv           57          400\n",
       "no wnv       778         7240"
      ]
     },
     "execution_count": 178,
     "metadata": {},
     "output_type": "execute_result"
    }
   ],
   "source": [
    "conmat = np.array(confusion_matrix(y, y_pred, labels=[1,0]))\n",
    "confusion = pd.DataFrame(conmat, index=['wnv', 'no wnv'], columns=['pred wnv', 'pred no wnv'])\n",
    "confusion"
   ]
  },
  {
   "cell_type": "markdown",
   "metadata": {},
   "source": [
    "### Try SVM"
   ]
  },
  {
   "cell_type": "code",
   "execution_count": 15,
   "metadata": {
    "collapsed": false
   },
   "outputs": [],
   "source": [
    "numerical_features = ['NumMosquitos', 'Longitude', 'Latitude', 'Sunrise1', 'Sunset1', 'AvgSpeed1', 'Week']\n",
    "for i in numerical_features:\n",
    "    df[i] = (df[i]-df[i].mean())/df[i].std()"
   ]
  },
  {
   "cell_type": "code",
   "execution_count": 16,
   "metadata": {
    "collapsed": false
   },
   "outputs": [
    {
     "data": {
      "text/html": [
       "<div>\n",
       "<table border=\"1\" class=\"dataframe\">\n",
       "  <thead>\n",
       "    <tr style=\"text-align: right;\">\n",
       "      <th></th>\n",
       "      <th>Species</th>\n",
       "      <th>Trap</th>\n",
       "      <th>Latitude</th>\n",
       "      <th>Longitude</th>\n",
       "      <th>NumMosquitos</th>\n",
       "      <th>Tmax1</th>\n",
       "      <th>Tmin1</th>\n",
       "      <th>Tavg1</th>\n",
       "      <th>Depart1</th>\n",
       "      <th>DewPoint1</th>\n",
       "      <th>...</th>\n",
       "      <th>PrecipTotal2</th>\n",
       "      <th>StnPressure2</th>\n",
       "      <th>SeaLevel2</th>\n",
       "      <th>ResultSpeed2</th>\n",
       "      <th>ResultDir2</th>\n",
       "      <th>AvgSpeed2</th>\n",
       "      <th>Year</th>\n",
       "      <th>Week</th>\n",
       "      <th>Sprayed</th>\n",
       "      <th>wnv</th>\n",
       "    </tr>\n",
       "  </thead>\n",
       "  <tbody>\n",
       "    <tr>\n",
       "      <th>0</th>\n",
       "      <td>1</td>\n",
       "      <td>74</td>\n",
       "      <td>-1.057091</td>\n",
       "      <td>0.205515</td>\n",
       "      <td>-0.198893</td>\n",
       "      <td>88</td>\n",
       "      <td>60</td>\n",
       "      <td>74</td>\n",
       "      <td>10</td>\n",
       "      <td>58</td>\n",
       "      <td>...</td>\n",
       "      <td>1</td>\n",
       "      <td>29.44</td>\n",
       "      <td>30.09</td>\n",
       "      <td>5.8</td>\n",
       "      <td>16</td>\n",
       "      <td>7.4</td>\n",
       "      <td>2007</td>\n",
       "      <td>-2.064499</td>\n",
       "      <td>0</td>\n",
       "      <td>0</td>\n",
       "    </tr>\n",
       "    <tr>\n",
       "      <th>1</th>\n",
       "      <td>2</td>\n",
       "      <td>1</td>\n",
       "      <td>1.032481</td>\n",
       "      <td>-1.263375</td>\n",
       "      <td>-0.198893</td>\n",
       "      <td>88</td>\n",
       "      <td>60</td>\n",
       "      <td>74</td>\n",
       "      <td>10</td>\n",
       "      <td>58</td>\n",
       "      <td>...</td>\n",
       "      <td>1</td>\n",
       "      <td>29.44</td>\n",
       "      <td>30.09</td>\n",
       "      <td>5.8</td>\n",
       "      <td>16</td>\n",
       "      <td>7.4</td>\n",
       "      <td>2007</td>\n",
       "      <td>-2.064499</td>\n",
       "      <td>0</td>\n",
       "      <td>0</td>\n",
       "    </tr>\n",
       "    <tr>\n",
       "      <th>2</th>\n",
       "      <td>2</td>\n",
       "      <td>13</td>\n",
       "      <td>1.214444</td>\n",
       "      <td>-1.546746</td>\n",
       "      <td>-0.198893</td>\n",
       "      <td>88</td>\n",
       "      <td>60</td>\n",
       "      <td>74</td>\n",
       "      <td>10</td>\n",
       "      <td>58</td>\n",
       "      <td>...</td>\n",
       "      <td>1</td>\n",
       "      <td>29.44</td>\n",
       "      <td>30.09</td>\n",
       "      <td>5.8</td>\n",
       "      <td>16</td>\n",
       "      <td>7.4</td>\n",
       "      <td>2007</td>\n",
       "      <td>-2.064499</td>\n",
       "      <td>0</td>\n",
       "      <td>0</td>\n",
       "    </tr>\n",
       "    <tr>\n",
       "      <th>3</th>\n",
       "      <td>2</td>\n",
       "      <td>35</td>\n",
       "      <td>0.210958</td>\n",
       "      <td>0.482546</td>\n",
       "      <td>-0.198893</td>\n",
       "      <td>88</td>\n",
       "      <td>60</td>\n",
       "      <td>74</td>\n",
       "      <td>10</td>\n",
       "      <td>58</td>\n",
       "      <td>...</td>\n",
       "      <td>1</td>\n",
       "      <td>29.44</td>\n",
       "      <td>30.09</td>\n",
       "      <td>5.8</td>\n",
       "      <td>16</td>\n",
       "      <td>7.4</td>\n",
       "      <td>2007</td>\n",
       "      <td>-2.064499</td>\n",
       "      <td>0</td>\n",
       "      <td>0</td>\n",
       "    </tr>\n",
       "    <tr>\n",
       "      <th>4</th>\n",
       "      <td>2</td>\n",
       "      <td>37</td>\n",
       "      <td>0.700924</td>\n",
       "      <td>0.006295</td>\n",
       "      <td>-0.198893</td>\n",
       "      <td>88</td>\n",
       "      <td>60</td>\n",
       "      <td>74</td>\n",
       "      <td>10</td>\n",
       "      <td>58</td>\n",
       "      <td>...</td>\n",
       "      <td>1</td>\n",
       "      <td>29.44</td>\n",
       "      <td>30.09</td>\n",
       "      <td>5.8</td>\n",
       "      <td>16</td>\n",
       "      <td>7.4</td>\n",
       "      <td>2007</td>\n",
       "      <td>-2.064499</td>\n",
       "      <td>0</td>\n",
       "      <td>0</td>\n",
       "    </tr>\n",
       "  </tbody>\n",
       "</table>\n",
       "<p>5 rows × 47 columns</p>\n",
       "</div>"
      ],
      "text/plain": [
       "   Species  Trap  Latitude  Longitude  NumMosquitos  Tmax1  Tmin1  Tavg1  \\\n",
       "0        1    74 -1.057091   0.205515     -0.198893     88     60     74   \n",
       "1        2     1  1.032481  -1.263375     -0.198893     88     60     74   \n",
       "2        2    13  1.214444  -1.546746     -0.198893     88     60     74   \n",
       "3        2    35  0.210958   0.482546     -0.198893     88     60     74   \n",
       "4        2    37  0.700924   0.006295     -0.198893     88     60     74   \n",
       "\n",
       "   Depart1  DewPoint1 ...   PrecipTotal2  StnPressure2  SeaLevel2  \\\n",
       "0       10         58 ...              1         29.44      30.09   \n",
       "1       10         58 ...              1         29.44      30.09   \n",
       "2       10         58 ...              1         29.44      30.09   \n",
       "3       10         58 ...              1         29.44      30.09   \n",
       "4       10         58 ...              1         29.44      30.09   \n",
       "\n",
       "   ResultSpeed2  ResultDir2  AvgSpeed2  Year      Week  Sprayed  wnv  \n",
       "0           5.8          16        7.4  2007 -2.064499        0    0  \n",
       "1           5.8          16        7.4  2007 -2.064499        0    0  \n",
       "2           5.8          16        7.4  2007 -2.064499        0    0  \n",
       "3           5.8          16        7.4  2007 -2.064499        0    0  \n",
       "4           5.8          16        7.4  2007 -2.064499        0    0  \n",
       "\n",
       "[5 rows x 47 columns]"
      ]
     },
     "execution_count": 16,
     "metadata": {},
     "output_type": "execute_result"
    }
   ],
   "source": [
    "df.head()"
   ]
  },
  {
   "cell_type": "code",
   "execution_count": 17,
   "metadata": {
    "collapsed": false
   },
   "outputs": [],
   "source": [
    "X = df[['NumMosquitos', 'Longitude', 'Latitude', 'Trap', 'Species', 'Sunrise1', 'Sunset1', 'AvgSpeed1', 'Week']]\n",
    "enc = OneHotEncoder(categorical_features=[3,4])\n",
    "X = enc.fit_transform(X)"
   ]
  },
  {
   "cell_type": "code",
   "execution_count": 44,
   "metadata": {
    "collapsed": false
   },
   "outputs": [
    {
     "data": {
      "text/plain": [
       "GridSearchCV(cv=None, error_score='raise',\n",
       "       estimator=SVC(C=1.0, cache_size=200, class_weight=None, coef0=0.0,\n",
       "  decision_function_shape=None, degree=3, gamma='auto', kernel='rbf',\n",
       "  max_iter=-1, probability=False, random_state=None, shrinking=True,\n",
       "  tol=0.001, verbose=False),\n",
       "       fit_params={}, iid=True, n_jobs=1,\n",
       "       param_grid={'C': array([  1.00000e-02,   1.00000e-01,   1.00000e+00,   1.00000e+01,\n",
       "         1.00000e+02]), 'gamma': array([  1.00000e-05,   1.00000e-04,   1.00000e-03,   1.00000e-02,\n",
       "         1.00000e-01,   1.00000e+00,   1.00000e+01])},\n",
       "       pre_dispatch='2*n_jobs', refit=True, scoring='accuracy', verbose=0)"
      ]
     },
     "execution_count": 44,
     "metadata": {},
     "output_type": "execute_result"
    }
   ],
   "source": [
    "clf = svm.SVC(kernel='rbf')\n",
    "clf_params = {'C': 10.**np.arange(-2,3), 'gamma': 10.**np.arange(-5,2)}\n",
    "clfgs = GridSearchCV(clf, clf_params, scoring='accuracy')\n",
    "clfgs.fit(X, y)"
   ]
  },
  {
   "cell_type": "code",
   "execution_count": 45,
   "metadata": {
    "collapsed": false
   },
   "outputs": [
    {
     "name": "stdout",
     "output_type": "stream",
     "text": [
      "{'C': 1.0, 'gamma': 0.01}\n",
      "0.947256637168\n"
     ]
    }
   ],
   "source": [
    "print clfgs.best_params_\n",
    "print clfgs.best_score_"
   ]
  },
  {
   "cell_type": "code",
   "execution_count": 34,
   "metadata": {
    "collapsed": true
   },
   "outputs": [],
   "source": [
    "from sklearn.cross_validation import StratifiedKFold\n",
    "cv = StratifiedKFold(df.wnv, n_folds=5, shuffle=True, random_state=7)"
   ]
  },
  {
   "cell_type": "code",
   "execution_count": null,
   "metadata": {
    "collapsed": false
   },
   "outputs": [],
   "source": []
  },
  {
   "cell_type": "code",
   "execution_count": 46,
   "metadata": {
    "collapsed": false
   },
   "outputs": [
    {
     "name": "stdout",
     "output_type": "stream",
     "text": [
      "0.947020912717\n"
     ]
    }
   ],
   "source": [
    "clf = svm.SVC(kernel='rbf', C=1, gamma=0.01, probability=True)\n",
    "clfscore = cross_val_score(clf, X, y, cv=cv, n_jobs=-1).mean()\n",
    "clf_pred = cross_val_predict(clf, X, y, cv=cv, n_jobs=-1)\n",
    "print clfscore"
   ]
  },
  {
   "cell_type": "code",
   "execution_count": 47,
   "metadata": {
    "collapsed": false
   },
   "outputs": [
    {
     "data": {
      "text/html": [
       "<div>\n",
       "<table border=\"1\" class=\"dataframe\">\n",
       "  <thead>\n",
       "    <tr style=\"text-align: right;\">\n",
       "      <th></th>\n",
       "      <th>pred wnv</th>\n",
       "      <th>pred no wnv</th>\n",
       "    </tr>\n",
       "  </thead>\n",
       "  <tbody>\n",
       "    <tr>\n",
       "      <th>wnv</th>\n",
       "      <td>11</td>\n",
       "      <td>446</td>\n",
       "    </tr>\n",
       "    <tr>\n",
       "      <th>no wnv</th>\n",
       "      <td>3</td>\n",
       "      <td>8015</td>\n",
       "    </tr>\n",
       "  </tbody>\n",
       "</table>\n",
       "</div>"
      ],
      "text/plain": [
       "        pred wnv  pred no wnv\n",
       "wnv           11          446\n",
       "no wnv         3         8015"
      ]
     },
     "execution_count": 47,
     "metadata": {},
     "output_type": "execute_result"
    }
   ],
   "source": [
    "cm_clf = np.array(confusion_matrix(y, clf_pred, labels=[1,0]))\n",
    "confusion_clf = pd.DataFrame(cm_clf, index=['wnv', 'no wnv'], columns=['pred wnv', 'pred no wnv'])\n",
    "confusion_clf"
   ]
  },
  {
   "cell_type": "code",
   "execution_count": 48,
   "metadata": {
    "collapsed": false
   },
   "outputs": [
    {
     "data": {
      "image/png": "[encoded data removed]",
      "text/plain": [
       "<matplotlib.figure.Figure at 0x117c90f10>"
      ]
     },
     "metadata": {},
     "output_type": "display_data"
    }
   ],
   "source": [
    "X_train, X_test, y_train, y_test = train_test_split(X, y, test_size=0.3, stratify=df.wnv, random_state=42)\n",
    "clf.fit(X_train, y_train)\n",
    "clf_prob = clf.predict_proba(X_test)[:,1]\n",
    "clffpr = dict()\n",
    "clftpr = dict()\n",
    "clfroc_auc=dict()\n",
    "clffpr[1], clftpr[1], _ = roc_curve(y_test, clf_prob)\n",
    "clfroc_auc[1] = auc(clffpr[1], clftpr[1])\n",
    "plt.figure(figsize=[11,9])\n",
    "plt.plot(clffpr[1], clftpr[1], label='ROC curve (area = %0.2f)' % clfroc_auc[1], linewidth=4)\n",
    "plt.plot([0, 1], [0, 1], 'k--', linewidth=4)\n",
    "plt.xlim([0.0, 1.0])\n",
    "plt.ylim([0.0, 1.05])\n",
    "plt.xlabel('False Positive Rate', fontsize=18)\n",
    "plt.ylabel('True Positive Rate', fontsize=18)\n",
    "plt.title('Receiver operating characteristic for WNV (svm)', fontsize=18)\n",
    "plt.legend(loc=\"lower right\")\n",
    "plt.show()"
   ]
  },
  {
   "cell_type": "code",
   "execution_count": null,
   "metadata": {
    "collapsed": false
   },
   "outputs": [],
   "source": []
  },
  {
   "cell_type": "code",
   "execution_count": null,
   "metadata": {
    "collapsed": false
   },
   "outputs": [],
   "source": []
  },
  {
   "cell_type": "markdown",
   "metadata": {},
   "source": [
    "### Try Neural Network (Great ROC curve. We are going to win!)"
   ]
  },
  {
   "cell_type": "code",
   "execution_count": 34,
   "metadata": {
    "collapsed": false
   },
   "outputs": [],
   "source": [
    "import numpy as np\n",
    "import pandas as pd\n",
    "from keras.models import Sequential\n",
    "from keras.layers import Dense, Dropout, Flatten\n",
    "from keras.wrappers.scikit_learn import KerasClassifier\n",
    "from keras.utils import np_utils"
   ]
  },
  {
   "cell_type": "code",
   "execution_count": 59,
   "metadata": {
    "collapsed": false
   },
   "outputs": [],
   "source": [
    "xs = X.astype(float).toarray()\n",
    "ys = np_utils.to_categorical(y)"
   ]
  },
  {
   "cell_type": "code",
   "execution_count": 43,
   "metadata": {
    "collapsed": false
   },
   "outputs": [
    {
     "data": {
      "text/plain": [
       "(8475, 2)"
      ]
     },
     "execution_count": 43,
     "metadata": {},
     "output_type": "execute_result"
    }
   ],
   "source": [
    "ys.shape"
   ]
  },
  {
   "cell_type": "code",
   "execution_count": 99,
   "metadata": {
    "collapsed": false
   },
   "outputs": [
    {
     "data": {
      "text/plain": [
       "(8475, 150)"
      ]
     },
     "execution_count": 99,
     "metadata": {},
     "output_type": "execute_result"
    }
   ],
   "source": [
    "xs.shape"
   ]
  },
  {
   "cell_type": "code",
   "execution_count": 93,
   "metadata": {
    "collapsed": true
   },
   "outputs": [],
   "source": [
    "def baseline_model():\n",
    "    model = Sequential()\n",
    "    model.add(Dense(150, input_dim=150, init='normal', activation='relu'))\n",
    "    model.add(Dropout(0.25))\n",
    "    model.add(Dense(150, activation='relu'))\n",
    "    model.add(Dropout(0.25))\n",
    "    model.add(Dense(2, activation='sigmoid'))\n",
    "    model.compile(loss='binary_crossentropy', optimizer='adam', metrics=['accuracy'])\n",
    "    return model"
   ]
  },
  {
   "cell_type": "code",
   "execution_count": 108,
   "metadata": {
    "collapsed": true
   },
   "outputs": [],
   "source": [
    "estimator = KerasClassifier(build_fn=baseline_model, nb_epoch=2, batch_size=50, verbose=0)"
   ]
  },
  {
   "cell_type": "code",
   "execution_count": 109,
   "metadata": {
    "collapsed": false
   },
   "outputs": [
    {
     "name": "stdout",
     "output_type": "stream",
     "text": [
      "0.94831874412\n"
     ]
    }
   ],
   "source": [
    "nnscore = cross_val_score(estimator, xs, ys, cv=cv).mean()\n",
    "print nnscore"
   ]
  },
  {
   "cell_type": "code",
   "execution_count": 110,
   "metadata": {
    "collapsed": true
   },
   "outputs": [],
   "source": [
    "nn_pred = cross_val_predict(estimator, xs, ys, cv=cv)"
   ]
  },
  {
   "cell_type": "code",
   "execution_count": 111,
   "metadata": {
    "collapsed": false
   },
   "outputs": [
    {
     "data": {
      "text/html": [
       "<div>\n",
       "<table border=\"1\" class=\"dataframe\">\n",
       "  <thead>\n",
       "    <tr style=\"text-align: right;\">\n",
       "      <th></th>\n",
       "      <th>pred wnv</th>\n",
       "      <th>pred no wnv</th>\n",
       "    </tr>\n",
       "  </thead>\n",
       "  <tbody>\n",
       "    <tr>\n",
       "      <th>wnv</th>\n",
       "      <td>37</td>\n",
       "      <td>420</td>\n",
       "    </tr>\n",
       "    <tr>\n",
       "      <th>no wnv</th>\n",
       "      <td>19</td>\n",
       "      <td>7999</td>\n",
       "    </tr>\n",
       "  </tbody>\n",
       "</table>\n",
       "</div>"
      ],
      "text/plain": [
       "        pred wnv  pred no wnv\n",
       "wnv           37          420\n",
       "no wnv        19         7999"
      ]
     },
     "execution_count": 111,
     "metadata": {},
     "output_type": "execute_result"
    }
   ],
   "source": [
    "cm_nn = np.array(confusion_matrix(y, nn_pred, labels=[1,0]))\n",
    "confusion_nn = pd.DataFrame(cm_nn, index=['wnv', 'no wnv'], columns=['pred wnv', 'pred no wnv'])\n",
    "confusion_nn"
   ]
  },
  {
   "cell_type": "code",
   "execution_count": 112,
   "metadata": {
    "collapsed": false
   },
   "outputs": [
    {
     "data": {
      "image/png": "[encoded data removed]",
      "text/plain": [
       "<matplotlib.figure.Figure at 0x11efb2090>"
      ]
     },
     "metadata": {},
     "output_type": "display_data"
    }
   ],
   "source": [
    "xs_train, xs_test, ys_train, ys_test = train_test_split(xs, ys, test_size=0.3, stratify=df.wnv, random_state=42)\n",
    "estimator.fit(xs_train, ys_train)\n",
    "nn_prob = estimator.predict_proba(xs_test)[:,1]\n",
    "nnfpr = dict()\n",
    "nntpr = dict()\n",
    "nnroc_auc=dict()\n",
    "nnfpr[1], nntpr[1], _ = roc_curve(y_test, nn_prob)\n",
    "nnroc_auc[1] = auc(nnfpr[1], nntpr[1])\n",
    "plt.figure(figsize=[11,9])\n",
    "plt.plot(nnfpr[1], nntpr[1], label='ROC curve (area = %0.2f)' % nnroc_auc[1], linewidth=4)\n",
    "plt.plot([0, 1], [0, 1], 'k--', linewidth=4)\n",
    "plt.xlim([0.0, 1.0])\n",
    "plt.ylim([0.0, 1.05])\n",
    "plt.xlabel('False Positive Rate', fontsize=18)\n",
    "plt.ylabel('True Positive Rate', fontsize=18)\n",
    "plt.title('Receiver operating characteristic for WNV (neural network)', fontsize=18)\n",
    "plt.legend(loc=\"lower right\")\n",
    "plt.show()"
   ]
  },
  {
   "cell_type": "code",
   "execution_count": null,
   "metadata": {
    "collapsed": false
   },
   "outputs": [],
   "source": []
  },
  {
   "cell_type": "code",
   "execution_count": 121,
   "metadata": {
    "collapsed": false
   },
   "outputs": [],
   "source": [
    "import seaborn as sns"
   ]
  },
  {
   "cell_type": "code",
   "execution_count": 127,
   "metadata": {
    "collapsed": false
   },
   "outputs": [
    {
     "data": {
      "text/plain": [
       "<seaborn.axisgrid.PairGrid at 0x11ef2f450>"
      ]
     },
     "execution_count": 127,
     "metadata": {},
     "output_type": "execute_result"
    },
    {
     "data": {
      "image/png": "[encoded data removed]",
      "text/plain": [
       "<matplotlib.figure.Figure at 0x11f19ea90>"
      ]
     },
     "metadata": {},
     "output_type": "display_data"
    }
   ],
   "source": [
    "sns.set()\n",
    "sns.pairplot(df, x_vars='Latitude', y_vars='Longitude', hue='wnv', size=8)"
   ]
  },
  {
   "cell_type": "code",
   "execution_count": null,
   "metadata": {
    "collapsed": true
   },
   "outputs": [],
   "source": []
  }
 ],
 "metadata": {
  "anaconda-cloud": {},
  "kernelspec": {
   "display_name": "Python [Root]",
   "language": "python",
   "name": "Python [Root]"
  },
  "language_info": {
   "codemirror_mode": {
    "name": "ipython",
    "version": 2
   },
   "file_extension": ".py",
   "mimetype": "text/x-python",
   "name": "python",
   "nbconvert_exporter": "python",
   "pygments_lexer": "ipython2",
   "version": "2.7.12"
  }
 },
 "nbformat": 4,
 "nbformat_minor": 0
}
